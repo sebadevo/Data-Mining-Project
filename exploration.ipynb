{
 "cells": [
  {
   "cell_type": "code",
   "execution_count": 7,
   "metadata": {},
   "outputs": [],
   "source": [
    "import pandas as pd\n",
    "import numpy as np"
   ]
  },
  {
   "cell_type": "markdown",
   "metadata": {},
   "source": [
    "# Loading the data"
   ]
  },
  {
   "cell_type": "markdown",
   "metadata": {},
   "source": [
    "## Loading trips.txt\n",
    "\n",
    "Dataset at the center of the diagram linking the routes, the stop times, the shapes and the calendar."
   ]
  },
  {
   "cell_type": "code",
   "execution_count": 25,
   "metadata": {},
   "outputs": [
    {
     "data": {
      "text/html": [
       "<div>\n",
       "<style scoped>\n",
       "    .dataframe tbody tr th:only-of-type {\n",
       "        vertical-align: middle;\n",
       "    }\n",
       "\n",
       "    .dataframe tbody tr th {\n",
       "        vertical-align: top;\n",
       "    }\n",
       "\n",
       "    .dataframe thead th {\n",
       "        text-align: right;\n",
       "    }\n",
       "</style>\n",
       "<table border=\"1\" class=\"dataframe\">\n",
       "  <thead>\n",
       "    <tr style=\"text-align: right;\">\n",
       "      <th></th>\n",
       "      <th>route_id</th>\n",
       "      <th>service_id</th>\n",
       "      <th>trip_id</th>\n",
       "      <th>trip_headsign</th>\n",
       "      <th>direction_id</th>\n",
       "      <th>block_id</th>\n",
       "      <th>shape_id</th>\n",
       "    </tr>\n",
       "  </thead>\n",
       "  <tbody>\n",
       "    <tr>\n",
       "      <th>0</th>\n",
       "      <td>14</td>\n",
       "      <td>237259001</td>\n",
       "      <td>113275577237259001</td>\n",
       "      <td>JULES BORDET</td>\n",
       "      <td>0</td>\n",
       "      <td>8934823</td>\n",
       "      <td>069b0002</td>\n",
       "    </tr>\n",
       "    <tr>\n",
       "      <th>1</th>\n",
       "      <td>14</td>\n",
       "      <td>237259001</td>\n",
       "      <td>113275578237259001</td>\n",
       "      <td>JULES BORDET</td>\n",
       "      <td>0</td>\n",
       "      <td>8934827</td>\n",
       "      <td>069b0002</td>\n",
       "    </tr>\n",
       "    <tr>\n",
       "      <th>2</th>\n",
       "      <td>14</td>\n",
       "      <td>237259001</td>\n",
       "      <td>113275579237259001</td>\n",
       "      <td>JULES BORDET</td>\n",
       "      <td>0</td>\n",
       "      <td>8934823</td>\n",
       "      <td>069b0002</td>\n",
       "    </tr>\n",
       "    <tr>\n",
       "      <th>3</th>\n",
       "      <td>14</td>\n",
       "      <td>237259001</td>\n",
       "      <td>113275580237259001</td>\n",
       "      <td>BORDET STATION</td>\n",
       "      <td>0</td>\n",
       "      <td>8934822</td>\n",
       "      <td>069b0005</td>\n",
       "    </tr>\n",
       "    <tr>\n",
       "      <th>4</th>\n",
       "      <td>14</td>\n",
       "      <td>237259001</td>\n",
       "      <td>113275581237259001</td>\n",
       "      <td>JULES BORDET</td>\n",
       "      <td>0</td>\n",
       "      <td>8934826</td>\n",
       "      <td>069b0002</td>\n",
       "    </tr>\n",
       "  </tbody>\n",
       "</table>\n",
       "</div>"
      ],
      "text/plain": [
       "   route_id  service_id             trip_id   trip_headsign  direction_id  \\\n",
       "0        14   237259001  113275577237259001    JULES BORDET             0   \n",
       "1        14   237259001  113275578237259001    JULES BORDET             0   \n",
       "2        14   237259001  113275579237259001    JULES BORDET             0   \n",
       "3        14   237259001  113275580237259001  BORDET STATION             0   \n",
       "4        14   237259001  113275581237259001    JULES BORDET             0   \n",
       "\n",
       "   block_id  shape_id  \n",
       "0   8934823  069b0002  \n",
       "1   8934827  069b0002  \n",
       "2   8934823  069b0002  \n",
       "3   8934822  069b0005  \n",
       "4   8934826  069b0002  "
      ]
     },
     "execution_count": 25,
     "metadata": {},
     "output_type": "execute_result"
    }
   ],
   "source": [
    "trips_data = pd.read_csv('data/gtfs23Sept/trips.txt', sep=\",\")\n",
    "trips_data.head()"
   ]
  },
  {
   "cell_type": "markdown",
   "metadata": {},
   "source": [
    "## Loading routes.txt\n",
    "\n",
    "Dataset containing transportation classes (tram, bus, metro) in order to select only trams."
   ]
  },
  {
   "cell_type": "code",
   "execution_count": 26,
   "metadata": {},
   "outputs": [
    {
     "name": "stdout",
     "output_type": "stream",
     "text": [
      "[1 0 3]\n"
     ]
    },
    {
     "data": {
      "text/html": [
       "<div>\n",
       "<style scoped>\n",
       "    .dataframe tbody tr th:only-of-type {\n",
       "        vertical-align: middle;\n",
       "    }\n",
       "\n",
       "    .dataframe tbody tr th {\n",
       "        vertical-align: top;\n",
       "    }\n",
       "\n",
       "    .dataframe thead th {\n",
       "        text-align: right;\n",
       "    }\n",
       "</style>\n",
       "<table border=\"1\" class=\"dataframe\">\n",
       "  <thead>\n",
       "    <tr style=\"text-align: right;\">\n",
       "      <th></th>\n",
       "      <th>route_id</th>\n",
       "      <th>route_short_name</th>\n",
       "      <th>route_long_name</th>\n",
       "      <th>route_desc</th>\n",
       "      <th>route_type</th>\n",
       "      <th>route_url</th>\n",
       "      <th>route_color</th>\n",
       "      <th>route_text_color</th>\n",
       "    </tr>\n",
       "  </thead>\n",
       "  <tbody>\n",
       "    <tr>\n",
       "      <th>0</th>\n",
       "      <td>1</td>\n",
       "      <td>1</td>\n",
       "      <td>GARE DE L'OUEST - STOCKEL</td>\n",
       "      <td>NaN</td>\n",
       "      <td>1</td>\n",
       "      <td>NaN</td>\n",
       "      <td>B5378C</td>\n",
       "      <td>FFFFFF</td>\n",
       "    </tr>\n",
       "    <tr>\n",
       "      <th>1</th>\n",
       "      <td>4</td>\n",
       "      <td>2</td>\n",
       "      <td>SIMONIS - ELISABETH</td>\n",
       "      <td>NaN</td>\n",
       "      <td>1</td>\n",
       "      <td>NaN</td>\n",
       "      <td>ED6C23</td>\n",
       "      <td>FFFFFF</td>\n",
       "    </tr>\n",
       "    <tr>\n",
       "      <th>2</th>\n",
       "      <td>5</td>\n",
       "      <td>3</td>\n",
       "      <td>ESPLANADE - CHURCHILL</td>\n",
       "      <td>NaN</td>\n",
       "      <td>0</td>\n",
       "      <td>NaN</td>\n",
       "      <td>B4BD10</td>\n",
       "      <td>000000</td>\n",
       "    </tr>\n",
       "    <tr>\n",
       "      <th>3</th>\n",
       "      <td>8</td>\n",
       "      <td>4</td>\n",
       "      <td>GARE DU NORD - STALLE (P)</td>\n",
       "      <td>NaN</td>\n",
       "      <td>0</td>\n",
       "      <td>NaN</td>\n",
       "      <td>EA4F80</td>\n",
       "      <td>000000</td>\n",
       "    </tr>\n",
       "    <tr>\n",
       "      <th>4</th>\n",
       "      <td>2</td>\n",
       "      <td>5</td>\n",
       "      <td>ERASME - HERRMANN-DEBROUX</td>\n",
       "      <td>NaN</td>\n",
       "      <td>1</td>\n",
       "      <td>NaN</td>\n",
       "      <td>F6A90B</td>\n",
       "      <td>FFFFFF</td>\n",
       "    </tr>\n",
       "  </tbody>\n",
       "</table>\n",
       "</div>"
      ],
      "text/plain": [
       "   route_id route_short_name            route_long_name  route_desc  \\\n",
       "0         1                1  GARE DE L'OUEST - STOCKEL         NaN   \n",
       "1         4                2        SIMONIS - ELISABETH         NaN   \n",
       "2         5                3      ESPLANADE - CHURCHILL         NaN   \n",
       "3         8                4  GARE DU NORD - STALLE (P)         NaN   \n",
       "4         2                5  ERASME - HERRMANN-DEBROUX         NaN   \n",
       "\n",
       "   route_type  route_url route_color route_text_color  \n",
       "0           1        NaN      B5378C           FFFFFF  \n",
       "1           1        NaN      ED6C23           FFFFFF  \n",
       "2           0        NaN      B4BD10           000000  \n",
       "3           0        NaN      EA4F80           000000  \n",
       "4           1        NaN      F6A90B           FFFFFF  "
      ]
     },
     "execution_count": 26,
     "metadata": {},
     "output_type": "execute_result"
    }
   ],
   "source": [
    "routes_data = pd.read_csv('data/gtfs23Sept/routes.txt', sep=\",\")\n",
    "\n",
    "print(routes_data['route_type'].unique())\n",
    "# print(np.unique(routes_data['route_type']))\n",
    "\n",
    "routes_data.head()"
   ]
  },
  {
   "cell_type": "markdown",
   "metadata": {},
   "source": [
    "We can observe that there are only 3 types (which matches our 3 tram, bus and metros types). Using the column `route_long_name`, we were able to verify that:\n",
    "\n",
    "| `route_type` |  **Type** |\n",
    "|--------------|:---------:|\n",
    "| 0            |  **Tram** |\n",
    "| 1            | **Metro** |\n",
    "| 3            |  **Bus**  |"
   ]
  },
  {
   "cell_type": "markdown",
   "metadata": {},
   "source": [
    "## Loading stop_times.txt\n",
    "\n",
    "Dataset containing the exact times at which a vehicle arrives at/departs from a stop, for every vehicle for every line.\n",
    "\n",
    "Given that we are trying to plot, for **every stop** of **both directions** of **every line**, the **arrival time** of a given transportation vehicle. We take the arrival time (different from the departure time) because it's the time that matters to passengers."
   ]
  },
  {
   "cell_type": "code",
   "execution_count": 27,
   "metadata": {},
   "outputs": [
    {
     "name": "stderr",
     "output_type": "stream",
     "text": [
      "/var/folders/7w/x2xg70_17nn9136zqrsf37vw0000gn/T/ipykernel_35310/371796481.py:1: DtypeWarning: Columns (3) have mixed types. Specify dtype option on import or set low_memory=False.\n",
      "  stop_times_data = pd.read_csv('data/gtfs23Sept/stop_times.txt', sep=\",\")\n"
     ]
    },
    {
     "data": {
      "text/html": [
       "<div>\n",
       "<style scoped>\n",
       "    .dataframe tbody tr th:only-of-type {\n",
       "        vertical-align: middle;\n",
       "    }\n",
       "\n",
       "    .dataframe tbody tr th {\n",
       "        vertical-align: top;\n",
       "    }\n",
       "\n",
       "    .dataframe thead th {\n",
       "        text-align: right;\n",
       "    }\n",
       "</style>\n",
       "<table border=\"1\" class=\"dataframe\">\n",
       "  <thead>\n",
       "    <tr style=\"text-align: right;\">\n",
       "      <th></th>\n",
       "      <th>trip_id</th>\n",
       "      <th>arrival_time</th>\n",
       "      <th>departure_time</th>\n",
       "      <th>stop_id</th>\n",
       "      <th>stop_sequence</th>\n",
       "      <th>pickup_type</th>\n",
       "      <th>drop_off_type</th>\n",
       "    </tr>\n",
       "  </thead>\n",
       "  <tbody>\n",
       "    <tr>\n",
       "      <th>0</th>\n",
       "      <td>113275577237259001</td>\n",
       "      <td>08:52:00</td>\n",
       "      <td>08:52:00</td>\n",
       "      <td>3107</td>\n",
       "      <td>1</td>\n",
       "      <td>0</td>\n",
       "      <td>0</td>\n",
       "    </tr>\n",
       "    <tr>\n",
       "      <th>1</th>\n",
       "      <td>113275577237259001</td>\n",
       "      <td>08:53:00</td>\n",
       "      <td>08:53:00</td>\n",
       "      <td>3177</td>\n",
       "      <td>2</td>\n",
       "      <td>0</td>\n",
       "      <td>0</td>\n",
       "    </tr>\n",
       "    <tr>\n",
       "      <th>2</th>\n",
       "      <td>113275577237259001</td>\n",
       "      <td>08:54:03</td>\n",
       "      <td>08:54:03</td>\n",
       "      <td>3171</td>\n",
       "      <td>3</td>\n",
       "      <td>0</td>\n",
       "      <td>0</td>\n",
       "    </tr>\n",
       "    <tr>\n",
       "      <th>3</th>\n",
       "      <td>113275577237259001</td>\n",
       "      <td>08:55:30</td>\n",
       "      <td>08:55:30</td>\n",
       "      <td>3172</td>\n",
       "      <td>4</td>\n",
       "      <td>0</td>\n",
       "      <td>0</td>\n",
       "    </tr>\n",
       "    <tr>\n",
       "      <th>4</th>\n",
       "      <td>113275577237259001</td>\n",
       "      <td>08:56:18</td>\n",
       "      <td>08:56:18</td>\n",
       "      <td>3173</td>\n",
       "      <td>5</td>\n",
       "      <td>0</td>\n",
       "      <td>0</td>\n",
       "    </tr>\n",
       "  </tbody>\n",
       "</table>\n",
       "</div>"
      ],
      "text/plain": [
       "              trip_id arrival_time departure_time stop_id  stop_sequence  \\\n",
       "0  113275577237259001     08:52:00       08:52:00    3107              1   \n",
       "1  113275577237259001     08:53:00       08:53:00    3177              2   \n",
       "2  113275577237259001     08:54:03       08:54:03    3171              3   \n",
       "3  113275577237259001     08:55:30       08:55:30    3172              4   \n",
       "4  113275577237259001     08:56:18       08:56:18    3173              5   \n",
       "\n",
       "   pickup_type  drop_off_type  \n",
       "0            0              0  \n",
       "1            0              0  \n",
       "2            0              0  \n",
       "3            0              0  \n",
       "4            0              0  "
      ]
     },
     "execution_count": 27,
     "metadata": {},
     "output_type": "execute_result"
    }
   ],
   "source": [
    "stop_times_data = pd.read_csv('data/gtfs23Sept/stop_times.txt', sep=\",\")\n",
    "stop_times_data.head()\n",
    "\n",
    "# print(stop_times_data['route_type'].unique())"
   ]
  },
  {
   "cell_type": "markdown",
   "metadata": {},
   "source": [
    "We will attempt to join the tables in order to filter out metros and buses, given that trams are the vehicle type that we are studying."
   ]
  },
  {
   "cell_type": "code",
   "execution_count": 32,
   "metadata": {},
   "outputs": [
    {
     "data": {
      "text/html": [
       "<div>\n",
       "<style scoped>\n",
       "    .dataframe tbody tr th:only-of-type {\n",
       "        vertical-align: middle;\n",
       "    }\n",
       "\n",
       "    .dataframe tbody tr th {\n",
       "        vertical-align: top;\n",
       "    }\n",
       "\n",
       "    .dataframe thead th {\n",
       "        text-align: right;\n",
       "    }\n",
       "</style>\n",
       "<table border=\"1\" class=\"dataframe\">\n",
       "  <thead>\n",
       "    <tr style=\"text-align: right;\">\n",
       "      <th></th>\n",
       "      <th>trip_id</th>\n",
       "      <th>service_id</th>\n",
       "      <th>route_type</th>\n",
       "      <th>route_short_name</th>\n",
       "      <th>trip_headsign</th>\n",
       "      <th>direction_id</th>\n",
       "    </tr>\n",
       "  </thead>\n",
       "  <tbody>\n",
       "    <tr>\n",
       "      <th>48056</th>\n",
       "      <td>113566853238562002</td>\n",
       "      <td>238562002</td>\n",
       "      <td>0</td>\n",
       "      <td>3</td>\n",
       "      <td>CHURCHILL</td>\n",
       "      <td>0</td>\n",
       "    </tr>\n",
       "    <tr>\n",
       "      <th>48057</th>\n",
       "      <td>113566856238562002</td>\n",
       "      <td>238562002</td>\n",
       "      <td>0</td>\n",
       "      <td>3</td>\n",
       "      <td>CHURCHILL</td>\n",
       "      <td>0</td>\n",
       "    </tr>\n",
       "    <tr>\n",
       "      <th>48058</th>\n",
       "      <td>113566857238562002</td>\n",
       "      <td>238562002</td>\n",
       "      <td>0</td>\n",
       "      <td>3</td>\n",
       "      <td>ESPLANADE</td>\n",
       "      <td>1</td>\n",
       "    </tr>\n",
       "    <tr>\n",
       "      <th>48059</th>\n",
       "      <td>113566858238562002</td>\n",
       "      <td>238562002</td>\n",
       "      <td>0</td>\n",
       "      <td>3</td>\n",
       "      <td>ESPLANADE</td>\n",
       "      <td>1</td>\n",
       "    </tr>\n",
       "    <tr>\n",
       "      <th>48060</th>\n",
       "      <td>113566859238562002</td>\n",
       "      <td>238562002</td>\n",
       "      <td>0</td>\n",
       "      <td>3</td>\n",
       "      <td>ESPLANADE</td>\n",
       "      <td>1</td>\n",
       "    </tr>\n",
       "  </tbody>\n",
       "</table>\n",
       "</div>"
      ],
      "text/plain": [
       "                  trip_id  service_id  route_type route_short_name  \\\n",
       "48056  113566853238562002   238562002           0                3   \n",
       "48057  113566856238562002   238562002           0                3   \n",
       "48058  113566857238562002   238562002           0                3   \n",
       "48059  113566858238562002   238562002           0                3   \n",
       "48060  113566859238562002   238562002           0                3   \n",
       "\n",
       "      trip_headsign  direction_id  \n",
       "48056     CHURCHILL             0  \n",
       "48057     CHURCHILL             0  \n",
       "48058     ESPLANADE             1  \n",
       "48059     ESPLANADE             1  \n",
       "48060     ESPLANADE             1  "
      ]
     },
     "execution_count": 32,
     "metadata": {},
     "output_type": "execute_result"
    }
   ],
   "source": [
    "trips_routes_merge = pd.merge(trips_data, routes_data, on='route_id')\n",
    "trips_routes_merge = trips_routes_merge[['trip_id', 'service_id', 'route_type', 'route_short_name', 'trip_headsign', 'direction_id']]\n",
    "trips_routes_merge = trips_routes_merge.loc[trips_routes_merge['route_type'] == 0]\n",
    "trips_routes_merge.head()\n",
    "# trips_routes_merge.tail()"
   ]
  },
  {
   "cell_type": "markdown",
   "metadata": {},
   "source": [
    "We have successfully linked (tram) routes to all other possible datasets.\n",
    "\n",
    "### TODO: verify hypothesis that monday = weekday (that 1 1 1 1 1 = 1)"
   ]
  },
  {
   "cell_type": "code",
   "execution_count": 40,
   "metadata": {},
   "outputs": [
    {
     "data": {
      "text/html": [
       "<div>\n",
       "<style scoped>\n",
       "    .dataframe tbody tr th:only-of-type {\n",
       "        vertical-align: middle;\n",
       "    }\n",
       "\n",
       "    .dataframe tbody tr th {\n",
       "        vertical-align: top;\n",
       "    }\n",
       "\n",
       "    .dataframe thead th {\n",
       "        text-align: right;\n",
       "    }\n",
       "</style>\n",
       "<table border=\"1\" class=\"dataframe\">\n",
       "  <thead>\n",
       "    <tr style=\"text-align: right;\">\n",
       "      <th></th>\n",
       "      <th>trip_id</th>\n",
       "      <th>route_type</th>\n",
       "      <th>route_short_name</th>\n",
       "      <th>trip_headsign</th>\n",
       "      <th>direction_id</th>\n",
       "      <th>weekday</th>\n",
       "      <th>saturday</th>\n",
       "      <th>sunday</th>\n",
       "    </tr>\n",
       "  </thead>\n",
       "  <tbody>\n",
       "    <tr>\n",
       "      <th>22158</th>\n",
       "      <td>113127688236806601</td>\n",
       "      <td>0</td>\n",
       "      <td>93</td>\n",
       "      <td>STADE</td>\n",
       "      <td>1</td>\n",
       "      <td>0</td>\n",
       "      <td>0</td>\n",
       "      <td>1</td>\n",
       "    </tr>\n",
       "    <tr>\n",
       "      <th>22159</th>\n",
       "      <td>113127695236806601</td>\n",
       "      <td>0</td>\n",
       "      <td>93</td>\n",
       "      <td>STADE</td>\n",
       "      <td>1</td>\n",
       "      <td>0</td>\n",
       "      <td>0</td>\n",
       "      <td>1</td>\n",
       "    </tr>\n",
       "    <tr>\n",
       "      <th>22160</th>\n",
       "      <td>113127702236806601</td>\n",
       "      <td>0</td>\n",
       "      <td>93</td>\n",
       "      <td>STADE</td>\n",
       "      <td>1</td>\n",
       "      <td>0</td>\n",
       "      <td>0</td>\n",
       "      <td>1</td>\n",
       "    </tr>\n",
       "    <tr>\n",
       "      <th>22161</th>\n",
       "      <td>113127707236806601</td>\n",
       "      <td>0</td>\n",
       "      <td>93</td>\n",
       "      <td>STADE</td>\n",
       "      <td>1</td>\n",
       "      <td>0</td>\n",
       "      <td>0</td>\n",
       "      <td>1</td>\n",
       "    </tr>\n",
       "    <tr>\n",
       "      <th>22162</th>\n",
       "      <td>113127711236806601</td>\n",
       "      <td>0</td>\n",
       "      <td>93</td>\n",
       "      <td>STADE</td>\n",
       "      <td>1</td>\n",
       "      <td>0</td>\n",
       "      <td>0</td>\n",
       "      <td>1</td>\n",
       "    </tr>\n",
       "  </tbody>\n",
       "</table>\n",
       "</div>"
      ],
      "text/plain": [
       "                  trip_id  route_type route_short_name trip_headsign  \\\n",
       "22158  113127688236806601           0               93         STADE   \n",
       "22159  113127695236806601           0               93         STADE   \n",
       "22160  113127702236806601           0               93         STADE   \n",
       "22161  113127707236806601           0               93         STADE   \n",
       "22162  113127711236806601           0               93         STADE   \n",
       "\n",
       "       direction_id  weekday  saturday  sunday  \n",
       "22158             1        0         0       1  \n",
       "22159             1        0         0       1  \n",
       "22160             1        0         0       1  \n",
       "22161             1        0         0       1  \n",
       "22162             1        0         0       1  "
      ]
     },
     "execution_count": 40,
     "metadata": {},
     "output_type": "execute_result"
    }
   ],
   "source": [
    "calendar_data = pd.read_csv('data/gtfs23Sept/calendar.txt', sep=\",\")\n",
    "trips_routes_calendar = pd.merge(trips_routes_merge, calendar_data, on='service_id')\n",
    "trips_routes_calendar.drop(['start_date', 'end_date', 'tuesday', 'wednesday', 'thursday', 'friday', 'service_id'], inplace=True, axis=1)\n",
    "trips_routes_calendar.rename(columns={'monday': 'weekday'}, inplace=True)  #TODO hypothesis: monday = weekday\n",
    "trips_routes_calendar.tail()"
   ]
  },
  {
   "cell_type": "markdown",
   "metadata": {},
   "source": [
    "Now that we have linked calendar and routes, we will now further link it to stop times."
   ]
  },
  {
   "cell_type": "code",
   "execution_count": 56,
   "metadata": {},
   "outputs": [
    {
     "data": {
      "text/html": [
       "<div>\n",
       "<style scoped>\n",
       "    .dataframe tbody tr th:only-of-type {\n",
       "        vertical-align: middle;\n",
       "    }\n",
       "\n",
       "    .dataframe tbody tr th {\n",
       "        vertical-align: top;\n",
       "    }\n",
       "\n",
       "    .dataframe thead th {\n",
       "        text-align: right;\n",
       "    }\n",
       "</style>\n",
       "<table border=\"1\" class=\"dataframe\">\n",
       "  <thead>\n",
       "    <tr style=\"text-align: right;\">\n",
       "      <th></th>\n",
       "      <th>route_type</th>\n",
       "      <th>route_short_name</th>\n",
       "      <th>trip_headsign</th>\n",
       "      <th>direction_id</th>\n",
       "      <th>weekday</th>\n",
       "      <th>saturday</th>\n",
       "      <th>sunday</th>\n",
       "      <th>arrival_time</th>\n",
       "      <th>stop_id</th>\n",
       "    </tr>\n",
       "  </thead>\n",
       "  <tbody>\n",
       "    <tr>\n",
       "      <th>0</th>\n",
       "      <td>0</td>\n",
       "      <td>3</td>\n",
       "      <td>CHURCHILL</td>\n",
       "      <td>0</td>\n",
       "      <td>1</td>\n",
       "      <td>0</td>\n",
       "      <td>0</td>\n",
       "      <td>21:54:00</td>\n",
       "      <td>5701</td>\n",
       "    </tr>\n",
       "    <tr>\n",
       "      <th>1</th>\n",
       "      <td>0</td>\n",
       "      <td>3</td>\n",
       "      <td>CHURCHILL</td>\n",
       "      <td>0</td>\n",
       "      <td>1</td>\n",
       "      <td>0</td>\n",
       "      <td>0</td>\n",
       "      <td>21:56:00</td>\n",
       "      <td>5700G</td>\n",
       "    </tr>\n",
       "    <tr>\n",
       "      <th>2</th>\n",
       "      <td>0</td>\n",
       "      <td>3</td>\n",
       "      <td>CHURCHILL</td>\n",
       "      <td>0</td>\n",
       "      <td>1</td>\n",
       "      <td>0</td>\n",
       "      <td>0</td>\n",
       "      <td>21:57:29</td>\n",
       "      <td>5704F</td>\n",
       "    </tr>\n",
       "    <tr>\n",
       "      <th>3</th>\n",
       "      <td>0</td>\n",
       "      <td>3</td>\n",
       "      <td>CHURCHILL</td>\n",
       "      <td>0</td>\n",
       "      <td>1</td>\n",
       "      <td>0</td>\n",
       "      <td>0</td>\n",
       "      <td>21:58:31</td>\n",
       "      <td>5705</td>\n",
       "    </tr>\n",
       "    <tr>\n",
       "      <th>4</th>\n",
       "      <td>0</td>\n",
       "      <td>3</td>\n",
       "      <td>CHURCHILL</td>\n",
       "      <td>0</td>\n",
       "      <td>1</td>\n",
       "      <td>0</td>\n",
       "      <td>0</td>\n",
       "      <td>22:00:00</td>\n",
       "      <td>5706</td>\n",
       "    </tr>\n",
       "  </tbody>\n",
       "</table>\n",
       "</div>"
      ],
      "text/plain": [
       "   route_type route_short_name trip_headsign  direction_id  weekday  saturday  \\\n",
       "0           0                3     CHURCHILL             0        1         0   \n",
       "1           0                3     CHURCHILL             0        1         0   \n",
       "2           0                3     CHURCHILL             0        1         0   \n",
       "3           0                3     CHURCHILL             0        1         0   \n",
       "4           0                3     CHURCHILL             0        1         0   \n",
       "\n",
       "   sunday arrival_time stop_id  \n",
       "0       0     21:54:00    5701  \n",
       "1       0     21:56:00   5700G  \n",
       "2       0     21:57:29   5704F  \n",
       "3       0     21:58:31    5705  \n",
       "4       0     22:00:00    5706  "
      ]
     },
     "execution_count": 56,
     "metadata": {},
     "output_type": "execute_result"
    }
   ],
   "source": [
    "trcst = pd.merge(trips_routes_calendar, stop_times_data, on='trip_id')\n",
    "trcst.drop(['pickup_type', 'drop_off_type', 'stop_sequence', 'departure_time', 'trip_id'], inplace=True, axis=1)\n",
    "trcst.head()"
   ]
  },
  {
   "cell_type": "markdown",
   "metadata": {},
   "source": [
    "Say we take Tram 3 direction CHURCHILL at stop 5701."
   ]
  },
  {
   "cell_type": "code",
   "execution_count": 70,
   "metadata": {},
   "outputs": [
    {
     "name": "stdout",
     "output_type": "stream",
     "text": [
      "['21:58:31', '21:46:31', '23:58:31', '23:13:31', '23:28:31', '22:58:31', '23:43:31', '09:18:31', '09:33:31', '10:40:31', '10:56:31', '14:19:31', '14:34:31', '09:48:31', '11:04:31', '11:34:31', '14:48:31', '15:18:31', '10:03:31', '10:18:31', '10:33:31', '12:49:31', '15:33:31', '09:40:31', '10:25:31', '13:19:31', '11:19:31', '12:34:31', '12:04:31', '13:04:31', '13:34:31', '13:49:31', '15:03:31', '10:49:31', '09:25:31', '09:55:31', '11:49:31', '12:19:31', '10:10:31', '14:04:31', '22:13:31', '22:28:31', '22:43:31', '07:00:31', '07:19:31', '07:39:31', '06:54:31', '08:04:31', '08:14:31', '08:24:31', '08:39:31', '08:49:31', '08:54:31', '07:34:31', '09:04:31', '09:10:31', '08:29:31', '07:54:31', '07:13:31', '07:06:31', '07:59:31', '08:59:31', '08:44:31', '07:24:31', '07:49:31', '07:29:31', '08:09:31', '08:19:31', '08:34:31', '07:44:31', '05:44:31', '05:20:31', '06:08:31', '06:18:31', '05:32:31', '06:27:31', '06:37:31', '06:46:31', '05:56:31', '20:58:31', '21:10:31', '21:22:31', '20:09:31', '20:21:31', '20:45:31', '14:55:31', '12:26:31', '11:26:31', '13:11:31', '13:41:31', '15:10:31', '12:41:31', '15:53:31', '16:03:31', '16:08:31', '16:13:31', '16:18:31', '16:28:31', '16:33:31', '16:38:31', '15:48:31', '13:56:31', '12:11:31', '15:38:31', '15:58:31', '16:23:31', '15:25:31', '14:41:31', '15:43:31', '11:11:31', '11:56:31', '12:56:31', '13:26:31', '14:11:31', '14:26:31', '11:41:31', '17:33:31', '16:53:31', '17:53:31', '17:13:31', '17:38:31', '17:23:31', '19:49:31', '18:30:31', '18:44:31', '17:08:31', '17:18:31', '19:41:31', '19:17:31', '19:58:31', '19:08:31', '18:08:31', '18:52:31', '18:03:31', '16:58:31', '16:43:31', '16:48:31', '17:58:31', '18:18:31', '17:03:31', '17:48:31', '19:00:31', '19:25:31', '17:43:31', '17:28:31', '05:04:31', '18:13:31', '18:24:31', '18:36:31', '19:33:31', '21:34:31', '20:33:31', '24:13:31', '21:58:31', '21:46:31', '23:58:31', '23:13:31', '23:28:31', '22:58:31', '23:43:31', '09:18:31', '09:33:31', '10:40:31', '10:56:31', '14:19:31', '14:34:31', '09:48:31', '11:04:31', '11:34:31', '14:48:31', '15:18:31', '10:03:31', '10:18:31', '10:33:31', '12:49:31', '15:33:31', '09:40:31', '10:25:31', '13:19:31', '11:19:31', '12:34:31', '12:04:31', '13:04:31', '13:34:31', '13:49:31', '15:03:31', '10:49:31', '09:25:31', '09:55:31', '11:49:31', '12:19:31', '10:10:31', '14:04:31', '22:13:31', '22:28:31', '22:43:31', '07:00:31', '07:19:31', '07:39:31', '06:54:31', '08:04:31', '08:14:31', '08:24:31', '08:39:31', '08:49:31', '08:54:31', '07:34:31', '09:04:31', '09:10:31', '08:29:31', '07:54:31', '07:13:31', '07:06:31', '07:59:31', '08:59:31', '08:44:31', '07:24:31', '07:49:31', '07:29:31', '08:09:31', '08:19:31', '08:34:31', '07:44:31', '05:44:31', '05:20:31', '06:08:31', '06:18:31', '05:32:31', '06:27:31', '06:37:31', '06:46:31', '05:56:31', '20:58:31', '21:10:31', '21:22:31', '20:09:31', '20:21:31', '20:45:31', '14:55:31', '12:26:31', '11:26:31', '13:11:31', '13:41:31', '15:10:31', '12:41:31', '15:53:31', '16:03:31', '16:08:31', '16:13:31', '16:18:31', '16:28:31', '16:33:31', '16:38:31', '15:48:31', '13:56:31', '12:11:31', '15:38:31', '15:58:31', '16:23:31', '15:25:31', '14:41:31', '15:43:31', '11:11:31', '11:56:31', '12:56:31', '13:26:31', '14:11:31', '14:26:31', '11:41:31', '17:33:31', '16:53:31', '17:53:31', '17:13:31', '17:38:31', '17:23:31', '19:49:31', '18:30:31', '18:44:31', '17:08:31', '17:18:31', '19:41:31', '19:17:31', '19:58:31', '19:08:31', '18:08:31', '18:52:31', '18:03:31', '16:58:31', '16:43:31', '16:48:31', '17:58:31', '18:18:31', '17:03:31', '17:48:31', '19:00:31', '19:25:31', '17:43:31', '17:28:31', '05:04:31', '18:13:31', '18:24:31', '18:36:31', '19:33:31', '21:34:31', '20:33:31', '24:13:31']\n"
     ]
    }
   ],
   "source": [
    "trcst2 = trcst.loc[(trcst['direction_id'] == 0) & (trcst['weekday'] == 1) & (trcst['stop_id'] == '5705') & (trcst['route_short_name'] == '3')]\n",
    "trcst2 = trcst2['arrival_time']\n",
    "# trcst2.head()\n",
    "arrival_times = trcst2.tolist()\n",
    "print(arrival_times)"
   ]
  },
  {
   "cell_type": "code",
   "execution_count": 71,
   "metadata": {},
   "outputs": [],
   "source": [
    "def time_to_sec(time:str):\n",
    "    time = time.split(\":\")\n",
    "    hours, minutes, seconds = int(time[0]), int(time[1]), int(time[2])\n",
    "    return hours*60*60+minutes*60+seconds"
   ]
  },
  {
   "cell_type": "code",
   "execution_count": 83,
   "metadata": {},
   "outputs": [
    {
     "name": "stdout",
     "output_type": "stream",
     "text": [
      "[18271, 18271, 19231, 19231, 19951, 19951, 20671, 20671, 21391, 21391, 22111, 22111, 22711, 22711, 23251, 23251, 23851, 23851, 24391, 24391, 24871, 24871, 25231, 25231, 25591, 25591, 26011, 26011, 26371, 26371, 26671, 26671, 26971, 26971, 27271, 27271, 27571, 27571, 27871, 27871, 28171, 28171, 28471, 28471, 28771, 28771, 29071, 29071, 29371, 29371, 29671, 29671, 29971, 29971, 30271, 30271, 30571, 30571, 30871, 30871, 31171, 31171, 31471, 31471, 31771, 31771, 32071, 32071, 32371, 32371, 32671, 32671, 33031, 33031, 33511, 33511, 33931, 33931, 34411, 34411, 34831, 34831, 35311, 35311, 35731, 35731, 36211, 36211, 36631, 36631, 37111, 37111, 37531, 37531, 38011, 38011, 38431, 38431, 38971, 38971, 39391, 39391, 39871, 39871, 40291, 40291, 40771, 40771, 41191, 41191, 41671, 41671, 42091, 42091, 42571, 42571, 42991, 42991, 43471, 43471, 43891, 43891, 44371, 44371, 44791, 44791, 45271, 45271, 45691, 45691, 46171, 46171, 46591, 46591, 47071, 47071, 47491, 47491, 47971, 47971, 48391, 48391, 48871, 48871, 49291, 49291, 49771, 49771, 50191, 50191, 50671, 50671, 51091, 51091, 51571, 51571, 51991, 51991, 52471, 52471, 52891, 52891, 53311, 53311, 53731, 53731, 54211, 54211, 54631, 54631, 55111, 55111, 55531, 55531, 56011, 56011, 56311, 56311, 56611, 56611, 56911, 56911, 57211, 57211, 57511, 57511, 57811, 57811, 58111, 58111, 58411, 58411, 58711, 58711, 59011, 59011, 59311, 59311, 59611, 59611, 59911, 59911, 60211, 60211, 60511, 60511, 60811, 60811, 61111, 61111, 61411, 61411, 61711, 61711, 62011, 62011, 62311, 62311, 62611, 62611, 62911, 62911, 63211, 63211, 63511, 63511, 63811, 63811, 64111, 64111, 64411, 64411, 64711, 64711, 65011, 65011, 65311, 65311, 65611, 65611, 65911, 65911, 66271, 66271, 66631, 66631, 66991, 66991, 67471, 67471, 67951, 67951, 68431, 68431, 68911, 68911, 69451, 69451, 69931, 69931, 70411, 70411, 70891, 70891, 71371, 71371, 71911, 71911, 72571, 72571, 73291, 73291, 74011, 74011, 74731, 74731, 75511, 75511, 76231, 76231, 76951, 76951, 77671, 77671, 78391, 78391, 79111, 79111, 80011, 80011, 80911, 80911, 81811, 81811, 82711, 82711, 83611, 83611, 84511, 84511, 85411, 85411, 86311, 86311, 87211, 87211]\n"
     ]
    }
   ],
   "source": [
    "arrival_times_minutes = map(time_to_sec, arrival_times)\n",
    "arrival_times_minutes = list(arrival_times_minutes)\n",
    "arrival_times_minutes = sorted(arrival_times_minutes)\n",
    "print(arrival_times_minutes)"
   ]
  },
  {
   "cell_type": "code",
   "execution_count": 84,
   "metadata": {},
   "outputs": [],
   "source": [
    "x, y = [], []\n",
    "for i in range(len(arrival_times_minutes)-1):\n",
    "    x.append(round(arrival_times_minutes[i]/3600, 2))\n",
    "    y.append(round((arrival_times_minutes[i+1]-arrival_times_minutes[i])/60, 2))"
   ]
  },
  {
   "cell_type": "code",
   "execution_count": 79,
   "metadata": {},
   "outputs": [],
   "source": [
    "import matplotlib.pyplot as plt"
   ]
  },
  {
   "cell_type": "code",
   "execution_count": 85,
   "metadata": {},
   "outputs": [
    {
     "data": {
      "image/png": "[encoded data removed]",
      "text/plain": [
       "<Figure size 640x480 with 1 Axes>"
      ]
     },
     "metadata": {},
     "output_type": "display_data"
    }
   ],
   "source": [
    "plt.plot(x, y)\n",
    "plt.show()"
   ]
  }
 ],
 "metadata": {
  "interpreter": {
   "hash": "aee8b7b246df8f9039afb4144a1f6fd8d2ca17a180786b69acc140d282b71a49"
  },
  "kernelspec": {
   "display_name": "Python 3.10.4 64-bit",
   "language": "python",
   "name": "python3"
  },
  "language_info": {
   "codemirror_mode": {
    "name": "ipython",
    "version": 3
   },
   "file_extension": ".py",
   "mimetype": "text/x-python",
   "name": "python",
   "nbconvert_exporter": "python",
   "pygments_lexer": "ipython3",
   "version": "3.10.4"
  },
  "orig_nbformat": 4
 },
 "nbformat": 4,
 "nbformat_minor": 2
}
