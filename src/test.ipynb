{
 "cells": [
  {
   "cell_type": "code",
   "execution_count": 1,
   "metadata": {},
   "outputs": [],
   "source": [
    "import pandas\n",
    "import numpy\n",
    "\n",
    "path = \"../data/gtfs3Sept/\"\n",
    "file = \"agency.txt\"\n",
    "\n"
   ]
  },
  {
   "cell_type": "code",
   "execution_count": 2,
   "metadata": {},
   "outputs": [
    {
     "name": "stdout",
     "output_type": "stream",
     "text": [
      "   agency_id agency_name               agency_url  agency_timezone  \\\n",
      "0  STIB-MIVB        STIB  http://www.stib-mivb.be  Europe/Brussels   \n",
      "\n",
      "  agency_lang agency_phone  \n",
      "0          fr  070 23 2000  \n"
     ]
    }
   ],
   "source": [
    "df = pandas.read_csv(path+file)\n",
    "print(df.head())"
   ]
  },
  {
   "cell_type": "code",
   "execution_count": 3,
   "metadata": {},
   "outputs": [
    {
     "name": "stdout",
     "output_type": "stream",
     "text": [
      "   service_id      date  exception_type\n",
      "0   237476501  20210912               1\n",
      "1   237566502  20210919               1\n",
      "2   238162502  20210919               1\n",
      "3   238164502  20210919               1\n",
      "4   238234501  20210919               1\n"
     ]
    }
   ],
   "source": [
    "path = \"../data/gtfs3Sept/\"\n",
    "file = \"calendar_dates.txt\"\n",
    "df = pandas.read_csv(path+file)\n",
    "print(df.head())"
   ]
  },
  {
   "cell_type": "code",
   "execution_count": 4,
   "metadata": {},
   "outputs": [
    {
     "name": "stdout",
     "output_type": "stream",
     "text": [
      "   service_id  monday  tuesday  wednesday  thursday  friday  saturday  sunday  \\\n",
      "0   234578052       1        1          1         1       1         0       0   \n",
      "1   236986502       0        0          0         0       0         1       0   \n",
      "2   236988602       0        0          0         0       0         0       1   \n",
      "3   236270000       1        1          1         1       1         0       0   \n",
      "4   236269500       0        0          0         0       0         1       0   \n",
      "\n",
      "   start_date  end_date  \n",
      "0    20210823  20210831  \n",
      "1    20210828  20210828  \n",
      "2    20210829  20210829  \n",
      "3    20210901  20210917  \n",
      "4    20210904  20210918  \n"
     ]
    }
   ],
   "source": [
    "path = \"../data/gtfs3Sept/\"\n",
    "file = \"calendar.txt\"\n",
    "df = pandas.read_csv(path+file)\n",
    "print(df.head())"
   ]
  },
  {
   "cell_type": "code",
   "execution_count": 5,
   "metadata": {},
   "outputs": [
    {
     "name": "stdout",
     "output_type": "stream",
     "text": [
      "   route_id route_short_name            route_long_name  route_desc  \\\n",
      "0         2                1  GARE DE L'OUEST - STOCKEL         NaN   \n",
      "1         4                2        SIMONIS - ELISABETH         NaN   \n",
      "2         5                3      ESPLANADE - CHURCHILL         NaN   \n",
      "3        10                4  GARE DU NORD - STALLE (P)         NaN   \n",
      "4         1                5  ERASME - HERRMANN-DEBROUX         NaN   \n",
      "\n",
      "   route_type  route_url route_color route_text_color  \n",
      "0           1        NaN      C4008F           FFFFFF  \n",
      "1           1        NaN      F57000           FFFFFF  \n",
      "2           0        NaN      B5BA05           000000  \n",
      "3           0        NaN      F25482           000000  \n",
      "4           1        NaN      E6B012           FFFFFF  \n"
     ]
    }
   ],
   "source": [
    "path = \"../data/gtfs3Sept/\"\n",
    "file = \"routes.txt\"\n",
    "df = pandas.read_csv(path+file)\n",
    "print(df.head())"
   ]
  },
  {
   "cell_type": "code",
   "execution_count": 6,
   "metadata": {},
   "outputs": [
    {
     "name": "stdout",
     "output_type": "stream",
     "text": [
      "   shape_id  shape_pt_lat  shape_pt_lon  shape_pt_sequence\n",
      "0  001m0042     50.841872      4.464541              10001\n",
      "1  001m0042     50.843270      4.463607              10002\n",
      "2  001m0042     50.843517      4.463443              10003\n",
      "3  001m0042     50.843755      4.463283              10004\n",
      "4  001m0042     50.844054      4.463082              10005\n"
     ]
    }
   ],
   "source": [
    "path = \"../data/gtfs3Sept/\"\n",
    "file = \"shapes.txt\"\n",
    "df = pandas.read_csv(path+file)\n",
    "print(df.head())"
   ]
  },
  {
   "cell_type": "code",
   "execution_count": 7,
   "metadata": {},
   "outputs": [
    {
     "name": "stdout",
     "output_type": "stream",
     "text": [
      "              trip_id arrival_time departure_time stop_id  stop_sequence  \\\n",
      "0  112387248235954071     21:07:00       21:07:00    4014              1   \n",
      "1  112387248235954071     21:09:00       21:09:00    3231              2   \n",
      "2  112387248235954071     21:10:08       21:10:08    3232              3   \n",
      "3  112387248235954071     21:11:00       21:11:00    3233              4   \n",
      "4  112387248235954071     21:11:43       21:11:43    3239              5   \n",
      "\n",
      "   pickup_type  drop_off_type  \n",
      "0            0              0  \n",
      "1            0              0  \n",
      "2            0              0  \n",
      "3            0              0  \n",
      "4            0              0  \n"
     ]
    }
   ],
   "source": [
    "path = \"../data/gtfs3Sept/\"\n",
    "file = \"stop_times.txt\"\n",
    "df = pandas.read_csv(path+file)\n",
    "print(df.head())"
   ]
  },
  {
   "cell_type": "code",
   "execution_count": 8,
   "metadata": {},
   "outputs": [
    {
     "name": "stdout",
     "output_type": "stream",
     "text": [
      "  stop_id  stop_code   stop_name  stop_desc   stop_lat  stop_lon  zone_id  \\\n",
      "0    0089        NaN  MONTGOMERY        NaN  50.838006  4.408970      NaN   \n",
      "1   0470F        NaN     SIMONIS        NaN  50.863666  4.329612      NaN   \n",
      "2    0471        NaN     SIMONIS        NaN  50.863732  4.329236      NaN   \n",
      "3    0472        NaN     SIMONIS        NaN  50.863543  4.329023      NaN   \n",
      "4   0473F        NaN     SIMONIS        NaN  50.863418  4.330031      NaN   \n",
      "\n",
      "   stop_url  location_type  parent_station  \n",
      "0       NaN              0            37.0  \n",
      "1       NaN              0             NaN  \n",
      "2       NaN              0            53.0  \n",
      "3       NaN              0            53.0  \n",
      "4       NaN              0             NaN  \n"
     ]
    }
   ],
   "source": [
    "path = \"../data/gtfs3Sept/\"\n",
    "file = \"stops.txt\"\n",
    "df = pandas.read_csv(path+file)\n",
    "print(df.head())"
   ]
  },
  {
   "cell_type": "code",
   "execution_count": 10,
   "metadata": {},
   "outputs": [
    {
     "name": "stdout",
     "output_type": "stream",
     "text": [
      "                  trans_id                             translation lang\n",
      "0                     STIB                                    STIB   fr\n",
      "1                     STIB                                    MIVB   nl\n",
      "2  http://www.stib-mivb.be  http://www.stib-mivb.be/index.htm?l=fr   fr\n",
      "3  http://www.stib-mivb.be  http://www.stib-mivb.be/index.htm?l=nl   nl\n",
      "4                   ABBAYE                                  Abbaye   fr\n"
     ]
    }
   ],
   "source": [
    "path = \"../data/gtfs3Sept/\"\n",
    "file = \"translations.txt\"\n",
    "df = pandas.read_csv(path+file)\n",
    "print(df.head())"
   ]
  },
  {
   "cell_type": "code",
   "execution_count": 11,
   "metadata": {},
   "outputs": [
    {
     "name": "stdout",
     "output_type": "stream",
     "text": [
      "   route_id  service_id             trip_id trip_headsign  direction_id  \\\n",
      "0        24   235954071  112387248235954071       SIMONIS             1   \n",
      "1        24   235954071  112387249235954071       SIMONIS             1   \n",
      "2        24   235954071  112387253235954071       SIMONIS             1   \n",
      "3        24   235954071  112387254235954071       SIMONIS             1   \n",
      "4        24   235954071  112387255235954071       SIMONIS             1   \n",
      "\n",
      "   block_id  shape_id  \n",
      "0   8902800  087b0196  \n",
      "1   8902802  087b0196  \n",
      "2   8902801  087b0196  \n",
      "3   8902800  087b0196  \n",
      "4   8902802  087b0196  \n"
     ]
    }
   ],
   "source": [
    "path = \"../data/gtfs3Sept/\"\n",
    "file = \"trips.txt\"\n",
    "df = pandas.read_csv(path+file)\n",
    "print(df.head())"
   ]
  },
  {
   "cell_type": "code",
   "execution_count": 14,
   "metadata": {},
   "outputs": [
    {
     "name": "stdout",
     "output_type": "stream",
     "text": [
      "                                                data\n",
      "0  {'time': '1630914886924', 'Responses': [{'line...\n",
      "1  {'time': '1630914917746', 'Responses': [{'line...\n",
      "2  {'time': '1630914948365', 'Responses': [{'line...\n",
      "3  {'time': '1630914978881', 'Responses': [{'line...\n",
      "4  {'time': '1630915011138', 'Responses': [{'line...\n"
     ]
    }
   ],
   "source": [
    "df2 = pandas.read_json(\"../data/vehiclePosition01.json\")\n",
    "print(df2.head())\n"
   ]
  },
  {
   "cell_type": "code",
   "execution_count": 21,
   "metadata": {},
   "outputs": [
    {
     "ename": "KeyError",
     "evalue": "False",
     "output_type": "error",
     "traceback": [
      "\u001b[0;31m---------------------------------------------------------------------------\u001b[0m",
      "\u001b[0;31mKeyError\u001b[0m                                  Traceback (most recent call last)",
      "\u001b[0;32m~/.local/lib/python3.10/site-packages/pandas/core/indexes/base.py\u001b[0m in \u001b[0;36mget_loc\u001b[0;34m(self, key, method, tolerance)\u001b[0m\n\u001b[1;32m   3620\u001b[0m             \u001b[0;32mtry\u001b[0m\u001b[0;34m:\u001b[0m\u001b[0;34m\u001b[0m\u001b[0;34m\u001b[0m\u001b[0m\n\u001b[0;32m-> 3621\u001b[0;31m                 \u001b[0;32mreturn\u001b[0m \u001b[0mself\u001b[0m\u001b[0;34m.\u001b[0m\u001b[0m_engine\u001b[0m\u001b[0;34m.\u001b[0m\u001b[0mget_loc\u001b[0m\u001b[0;34m(\u001b[0m\u001b[0mcasted_key\u001b[0m\u001b[0;34m)\u001b[0m\u001b[0;34m\u001b[0m\u001b[0;34m\u001b[0m\u001b[0m\n\u001b[0m\u001b[1;32m   3622\u001b[0m             \u001b[0;32mexcept\u001b[0m \u001b[0mKeyError\u001b[0m \u001b[0;32mas\u001b[0m \u001b[0merr\u001b[0m\u001b[0;34m:\u001b[0m\u001b[0;34m\u001b[0m\u001b[0;34m\u001b[0m\u001b[0m\n",
      "\u001b[0;32m~/.local/lib/python3.10/site-packages/pandas/_libs/index.pyx\u001b[0m in \u001b[0;36mpandas._libs.index.IndexEngine.get_loc\u001b[0;34m()\u001b[0m\n",
      "\u001b[0;32m~/.local/lib/python3.10/site-packages/pandas/_libs/index.pyx\u001b[0m in \u001b[0;36mpandas._libs.index.IndexEngine.get_loc\u001b[0;34m()\u001b[0m\n",
      "\u001b[0;32mpandas/_libs/hashtable_class_helper.pxi\u001b[0m in \u001b[0;36mpandas._libs.hashtable.PyObjectHashTable.get_item\u001b[0;34m()\u001b[0m\n",
      "\u001b[0;32mpandas/_libs/hashtable_class_helper.pxi\u001b[0m in \u001b[0;36mpandas._libs.hashtable.PyObjectHashTable.get_item\u001b[0;34m()\u001b[0m\n",
      "\u001b[0;31mKeyError\u001b[0m: False",
      "\nThe above exception was the direct cause of the following exception:\n",
      "\u001b[0;31mKeyError\u001b[0m                                  Traceback (most recent call last)",
      "\u001b[0;32m/tmp/ipykernel_23824/2645046545.py\u001b[0m in \u001b[0;36m<module>\u001b[0;34m\u001b[0m\n\u001b[0;32m----> 1\u001b[0;31m \u001b[0mprint\u001b[0m\u001b[0;34m(\u001b[0m\u001b[0mdf2\u001b[0m\u001b[0;34m[\u001b[0m\u001b[0;34m'time'\u001b[0m\u001b[0;34m==\u001b[0m\u001b[0;34m'1630914886924'\u001b[0m\u001b[0;34m]\u001b[0m\u001b[0;34m)\u001b[0m\u001b[0;34m\u001b[0m\u001b[0;34m\u001b[0m\u001b[0m\n\u001b[0m",
      "\u001b[0;32m~/.local/lib/python3.10/site-packages/pandas/core/frame.py\u001b[0m in \u001b[0;36m__getitem__\u001b[0;34m(self, key)\u001b[0m\n\u001b[1;32m   3503\u001b[0m             \u001b[0;32mif\u001b[0m \u001b[0mself\u001b[0m\u001b[0;34m.\u001b[0m\u001b[0mcolumns\u001b[0m\u001b[0;34m.\u001b[0m\u001b[0mnlevels\u001b[0m \u001b[0;34m>\u001b[0m \u001b[0;36m1\u001b[0m\u001b[0;34m:\u001b[0m\u001b[0;34m\u001b[0m\u001b[0;34m\u001b[0m\u001b[0m\n\u001b[1;32m   3504\u001b[0m                 \u001b[0;32mreturn\u001b[0m \u001b[0mself\u001b[0m\u001b[0;34m.\u001b[0m\u001b[0m_getitem_multilevel\u001b[0m\u001b[0;34m(\u001b[0m\u001b[0mkey\u001b[0m\u001b[0;34m)\u001b[0m\u001b[0;34m\u001b[0m\u001b[0;34m\u001b[0m\u001b[0m\n\u001b[0;32m-> 3505\u001b[0;31m             \u001b[0mindexer\u001b[0m \u001b[0;34m=\u001b[0m \u001b[0mself\u001b[0m\u001b[0;34m.\u001b[0m\u001b[0mcolumns\u001b[0m\u001b[0;34m.\u001b[0m\u001b[0mget_loc\u001b[0m\u001b[0;34m(\u001b[0m\u001b[0mkey\u001b[0m\u001b[0;34m)\u001b[0m\u001b[0;34m\u001b[0m\u001b[0;34m\u001b[0m\u001b[0m\n\u001b[0m\u001b[1;32m   3506\u001b[0m             \u001b[0;32mif\u001b[0m \u001b[0mis_integer\u001b[0m\u001b[0;34m(\u001b[0m\u001b[0mindexer\u001b[0m\u001b[0;34m)\u001b[0m\u001b[0;34m:\u001b[0m\u001b[0;34m\u001b[0m\u001b[0;34m\u001b[0m\u001b[0m\n\u001b[1;32m   3507\u001b[0m                 \u001b[0mindexer\u001b[0m \u001b[0;34m=\u001b[0m \u001b[0;34m[\u001b[0m\u001b[0mindexer\u001b[0m\u001b[0;34m]\u001b[0m\u001b[0;34m\u001b[0m\u001b[0;34m\u001b[0m\u001b[0m\n",
      "\u001b[0;32m~/.local/lib/python3.10/site-packages/pandas/core/indexes/base.py\u001b[0m in \u001b[0;36mget_loc\u001b[0;34m(self, key, method, tolerance)\u001b[0m\n\u001b[1;32m   3621\u001b[0m                 \u001b[0;32mreturn\u001b[0m \u001b[0mself\u001b[0m\u001b[0;34m.\u001b[0m\u001b[0m_engine\u001b[0m\u001b[0;34m.\u001b[0m\u001b[0mget_loc\u001b[0m\u001b[0;34m(\u001b[0m\u001b[0mcasted_key\u001b[0m\u001b[0;34m)\u001b[0m\u001b[0;34m\u001b[0m\u001b[0;34m\u001b[0m\u001b[0m\n\u001b[1;32m   3622\u001b[0m             \u001b[0;32mexcept\u001b[0m \u001b[0mKeyError\u001b[0m \u001b[0;32mas\u001b[0m \u001b[0merr\u001b[0m\u001b[0;34m:\u001b[0m\u001b[0;34m\u001b[0m\u001b[0;34m\u001b[0m\u001b[0m\n\u001b[0;32m-> 3623\u001b[0;31m                 \u001b[0;32mraise\u001b[0m \u001b[0mKeyError\u001b[0m\u001b[0;34m(\u001b[0m\u001b[0mkey\u001b[0m\u001b[0;34m)\u001b[0m \u001b[0;32mfrom\u001b[0m \u001b[0merr\u001b[0m\u001b[0;34m\u001b[0m\u001b[0;34m\u001b[0m\u001b[0m\n\u001b[0m\u001b[1;32m   3624\u001b[0m             \u001b[0;32mexcept\u001b[0m \u001b[0mTypeError\u001b[0m\u001b[0;34m:\u001b[0m\u001b[0;34m\u001b[0m\u001b[0;34m\u001b[0m\u001b[0m\n\u001b[1;32m   3625\u001b[0m                 \u001b[0;31m# If we have a listlike key, _check_indexing_error will raise\u001b[0m\u001b[0;34m\u001b[0m\u001b[0;34m\u001b[0m\u001b[0m\n",
      "\u001b[0;31mKeyError\u001b[0m: False"
     ]
    }
   ],
   "source": [
    "print(df2['time'=='1630914886924'])"
   ]
  },
  {
   "cell_type": "code",
   "execution_count": null,
   "metadata": {},
   "outputs": [],
   "source": []
  }
 ],
 "metadata": {
  "kernelspec": {
   "display_name": "Python 3.10.4 64-bit",
   "language": "python",
   "name": "python3"
  },
  "language_info": {
   "codemirror_mode": {
    "name": "ipython",
    "version": 3
   },
   "file_extension": ".py",
   "mimetype": "text/x-python",
   "name": "python",
   "nbconvert_exporter": "python",
   "pygments_lexer": "ipython3",
   "version": "3.10.4"
  },
  "orig_nbformat": 4,
  "vscode": {
   "interpreter": {
    "hash": "916dbcbb3f70747c44a77c7bcd40155683ae19c65e1c03b4aa3499c5328201f1"
   }
  }
 },
 "nbformat": 4,
 "nbformat_minor": 2
}
