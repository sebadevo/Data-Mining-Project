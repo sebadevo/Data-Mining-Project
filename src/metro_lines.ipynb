{
 "cells": [
  {
   "cell_type": "code",
   "execution_count": 12,
   "metadata": {},
   "outputs": [],
   "source": [
    "import pandas as pd\n",
    "import numpy\n",
    "import json\n",
    "\n",
    "\n",
    "file_mode = \"../data/ACTU_STOPS_0.csv\"\n",
    "file_trips = \"../data/gtfs3Sept/trips.csv\"\n",
    "file_routes = \"../data/gtfs3Sept/routes.csv\"\n",
    "file_stop_times = \"../data/gtfs3Sept/stop_times.csv\"\n",
    "file_stops = \"../data/gtfs3Sept/stops.csv\"\n",
    "file_calendar = \"../data/gtfs3Sept/calendar.csv\""
   ]
  },
  {
   "cell_type": "code",
   "execution_count": 13,
   "metadata": {},
   "outputs": [],
   "source": [
    "# df_stops = pd.read_csv(file_stops)"
   ]
  },
  {
   "cell_type": "code",
   "execution_count": 76,
   "metadata": {},
   "outputs": [
    {
     "name": "stdout",
     "output_type": "stream",
     "text": [
      "['1' '2' '5' '6']\n"
     ]
    }
   ],
   "source": [
    "\"\"\"\n",
    "creation of the metro trips dataset\n",
    "\"\"\"\n",
    "df_mode = pd.read_csv(file_mode)\n",
    "df_trips = pd.read_csv(file_trips)\n",
    "df_routes = pd.read_csv(file_routes)\n",
    "\n",
    "# recuperates all the metro lines number\n",
    "df_mode_metro = df_mode.numero_lig[df_mode[\"mode\"]==\"M\"].astype(str).unique()\n",
    "print(df_mode_metro)\n",
    "\n"
   ]
  },
  {
   "cell_type": "code",
   "execution_count": 78,
   "metadata": {},
   "outputs": [
    {
     "name": "stdout",
     "output_type": "stream",
     "text": [
      "   route_id route_short_name            route_long_name  route_desc  \\\n",
      "0         2                1  GARE DE L'OUEST - STOCKEL         NaN   \n",
      "1         4                2        SIMONIS - ELISABETH         NaN   \n",
      "4         1                5  ERASME - HERRMANN-DEBROUX         NaN   \n",
      "5         3                6   ROI BAUDOUIN - ELISABETH         NaN   \n",
      "\n",
      "   route_type  route_url route_color route_text_color  \n",
      "0           1        NaN      C4008F           FFFFFF  \n",
      "1           1        NaN      F57000           FFFFFF  \n",
      "4           1        NaN      E6B012           FFFFFF  \n",
      "5           1        NaN      0078AD           FFFFFF  \n"
     ]
    }
   ],
   "source": [
    "# gets all the route_id corresponding to the metro line number\n",
    "df_routes_metro = df_routes[df_routes.route_short_name.isin(df_mode_metro)]\n",
    "print(df_routes_metro)\n",
    "\n"
   ]
  },
  {
   "cell_type": "code",
   "execution_count": 72,
   "metadata": {},
   "outputs": [
    {
     "name": "stdout",
     "output_type": "stream",
     "text": [
      "       route_id  service_id             trip_id  direction_id\n",
      "80299         1   234578052  112585711234578052             1\n",
      "80300         1   234578052  112585712234578052             1\n",
      "80301         1   234578052  112585714234578052             0\n",
      "80302         1   234578052  112585715234578052             0\n",
      "80303         1   234578052  112585717234578052             1\n",
      "...         ...         ...                 ...           ...\n",
      "88833         1   237269601  113423843237269601             1\n",
      "88834         1   237269601  113423845237269601             0\n",
      "88835         1   237269601  113423847237269601             1\n",
      "88836         1   237269601  113423849237269601             0\n",
      "88837         1   237269601  113423851237269601             1\n",
      "\n",
      "[8539 rows x 4 columns]\n"
     ]
    }
   ],
   "source": [
    "df_metro_trips = df_trips[df_trips.route_id.isin(df_routes_metro.route_id)] # we only keep the trip in df_trips associated to the metro lines\n",
    "df_metro_trips = df_metro_trips.drop([\"trip_headsign\", \"block_id\", \"shape_id\"], axis=1)\n",
    "print(df_metro_trips)"
   ]
  },
  {
   "cell_type": "code",
   "execution_count": 104,
   "metadata": {},
   "outputs": [
    {
     "name": "stdout",
     "output_type": "stream",
     "text": [
      "     service_id  saturday  sunday  start_date  week\n",
      "0     234578052         0       0    20210823     1\n",
      "1     236986502         1       0    20210828     0\n",
      "2     236988602         0       1    20210829     0\n",
      "3     236270000         0       0    20210901     1\n",
      "4     236269500         1       0    20210904     0\n",
      "..          ...       ...     ...         ...   ...\n",
      "432   237102501         1       0    20210911     0\n",
      "433   237472602         0       1    20210912     0\n",
      "434   237451600         0       1    20210905     0\n",
      "435   238036502         1       0    20210918     0\n",
      "436   238255501         1       0    20210919     0\n",
      "\n",
      "[437 rows x 5 columns]\n"
     ]
    }
   ],
   "source": [
    "\"\"\"\n",
    "filtering the calendar dataset in week, saturday, sunday\n",
    "\"\"\"\n",
    "df_calendar = pd.read_csv(file_calendar)\n",
    "df_calendar[\"week\"] = df_calendar['monday']*df_calendar['tuesday']*df_calendar['wednesday']*df_calendar['thursday']*df_calendar['friday']\n",
    "df_calendar.drop(['monday', 'tuesday', 'wednesday', 'thursday', 'friday', 'end_date'], inplace=True, axis=1)\n",
    "\n",
    "print(df_calendar)"
   ]
  },
  {
   "cell_type": "code",
   "execution_count": 105,
   "metadata": {},
   "outputs": [
    {
     "name": "stdout",
     "output_type": "stream",
     "text": [
      "      route_id  service_id             trip_id  direction_id  saturday  \\\n",
      "0            1   234578052  112585711234578052             1         0   \n",
      "1            1   234578052  112585712234578052             1         0   \n",
      "2            1   234578052  112585714234578052             0         0   \n",
      "3            1   234578052  112585715234578052             0         0   \n",
      "4            1   234578052  112585717234578052             1         0   \n",
      "...        ...         ...                 ...           ...       ...   \n",
      "8534         1   237269601  113423843237269601             1         0   \n",
      "8535         1   237269601  113423845237269601             0         0   \n",
      "8536         1   237269601  113423847237269601             1         0   \n",
      "8537         1   237269601  113423849237269601             0         0   \n",
      "8538         1   237269601  113423851237269601             1         0   \n",
      "\n",
      "      sunday  start_date  week  \n",
      "0          0    20210823     1  \n",
      "1          0    20210823     1  \n",
      "2          0    20210823     1  \n",
      "3          0    20210823     1  \n",
      "4          0    20210823     1  \n",
      "...      ...         ...   ...  \n",
      "8534       1    20210905     0  \n",
      "8535       1    20210905     0  \n",
      "8536       1    20210905     0  \n",
      "8537       1    20210905     0  \n",
      "8538       1    20210905     0  \n",
      "\n",
      "[8539 rows x 8 columns]\n"
     ]
    }
   ],
   "source": [
    "\"\"\"\n",
    "joining calendar and metro trip\n",
    "\"\"\"\n",
    "df_metro_trip_calendar = pd.merge(df_metro_trips, df_calendar, on=\"service_id\")\n",
    "print(df_metro_trip_calendar)"
   ]
  },
  {
   "cell_type": "code",
   "execution_count": 106,
   "metadata": {},
   "outputs": [
    {
     "name": "stdout",
     "output_type": "stream",
     "text": [
      "        route_id  service_id             trip_id  direction_id  saturday  \\\n",
      "0              1   234578052  112585711234578052             1         0   \n",
      "1              1   234578052  112585711234578052             1         0   \n",
      "2              1   234578052  112585711234578052             1         0   \n",
      "3              1   234578052  112585711234578052             1         0   \n",
      "4              1   234578052  112585711234578052             1         0   \n",
      "...          ...         ...                 ...           ...       ...   \n",
      "199764         1   237269601  113423851237269601             1         0   \n",
      "199765         1   237269601  113423851237269601             1         0   \n",
      "199766         1   237269601  113423851237269601             1         0   \n",
      "199767         1   237269601  113423851237269601             1         0   \n",
      "199768         1   237269601  113423851237269601             1         0   \n",
      "\n",
      "        sunday  start_date  week arrival_time departure_time stop_id  \\\n",
      "0            0    20210823     1     05:09:23       05:09:23    8743   \n",
      "1            0    20210823     1     05:10:23       05:10:23    8731   \n",
      "2            0    20210823     1     05:11:49       05:11:49    8721   \n",
      "3            0    20210823     1     05:13:27       05:13:27    8711   \n",
      "4            0    20210823     1     05:15:12       05:15:12    8701   \n",
      "...        ...         ...   ...          ...            ...     ...   \n",
      "199764       1    20210905     0     23:21:20       23:21:20    8681   \n",
      "199765       1    20210905     0     23:22:26       23:22:26    8671   \n",
      "199766       1    20210905     0     23:23:39       23:23:39    8661   \n",
      "199767       1    20210905     0     23:24:56       23:24:56    8651   \n",
      "199768       1    20210905     0     23:26:58       23:26:58    8641   \n",
      "\n",
      "        stop_sequence  \n",
      "0                   1  \n",
      "1                   2  \n",
      "2                   3  \n",
      "3                   4  \n",
      "4                   5  \n",
      "...               ...  \n",
      "199764             24  \n",
      "199765             25  \n",
      "199766             26  \n",
      "199767             27  \n",
      "199768             28  \n",
      "\n",
      "[199769 rows x 12 columns]\n"
     ]
    }
   ],
   "source": [
    "\"\"\"\n",
    "merging stop_times and metro_trip_calendar\n",
    "\"\"\"\n",
    "df_stop_times = pd.read_csv(file_stop_times)\n",
    "df_stop_times.drop([\"pickup_type\", \"drop_off_type\"], inplace=True, axis=1)\n",
    "df_metro_time = pd.merge(df_metro_trip_calendar, df_stop_times, on=\"trip_id\")\n",
    "print(df_metro_time)\n"
   ]
  },
  {
   "cell_type": "code",
   "execution_count": 18,
   "metadata": {},
   "outputs": [
    {
     "name": "stdout",
     "output_type": "stream",
     "text": [
      "['8743' '8731' '8721' '8711' '8701' '8691' '8681' '8671' '8661' '8651'\n",
      " '8642' '8641' '8652' '8662' '8672' '8682' '8692' '8702' '8712' '8722'\n",
      " '8732' '8742' '8292' '8282' '8272' '8012' '8022' '8032' '8042' '8052'\n",
      " '8062' '8072' '8202' '8212' '8222' '8232' '8242' '8252' '8262' '8231'\n",
      " '8221' '8211' '8201' '8071' '8061' '8051' '8041' '8031' '8021' '8011'\n",
      " '8271' '8281' '8291' '8741' '8251' '8241' '8261' '8161' '8151' '8141'\n",
      " '8131' '8121' '8111' '8101' '8091' '8081' '8162' '8733' '8082' '8092'\n",
      " '8102' '8112' '8122' '8132' '8142' '8152' '8471' '8461' '8441' '8431'\n",
      " '8421' '8411' '8401' '8301' '8311' '8321' '8331' '8341' '8351' '8361'\n",
      " '8371' '8381' '8753' '8763' '8773' '8783' '8793' '8803' '8813' '8823'\n",
      " '8834' '8833' '8824' '8814' '8804' '8794' '8784' '8774' '8764' '8754'\n",
      " '8744' '8382' '8372' '8362' '8352' '8342' '8332' '8322' '8312' '8302'\n",
      " '8402' '8412' '8422' '8432' '8442' '8462' '8472']\n",
      "127\n"
     ]
    }
   ],
   "source": [
    "print(df_metro_time.stop_id.unique())\n",
    "print(len(df_metro_time.stop_id.unique()))"
   ]
  },
  {
   "cell_type": "code",
   "execution_count": 107,
   "metadata": {},
   "outputs": [
    {
     "name": "stdout",
     "output_type": "stream",
     "text": [
      "['05:10:23', '05:17:15', '05:26:24', '05:33:39', '05:51:02', '06:00:20', '06:11:46', '06:15:53', '06:23:52', '06:32:27', '06:36:05', '06:43:48', '06:50:11', '06:56:11', '07:02:11', '07:08:11', '07:14:11', '07:20:11', '07:26:11', '07:32:11', '07:38:11', '07:44:11', '07:50:11', '07:56:11', '08:02:11', '08:08:11', '08:14:11', '08:20:11', '08:26:11', '08:32:11', '08:38:11', '08:44:11', '08:50:11', '08:56:11', '09:02:11', '09:08:11', '09:14:11', '09:20:11', '09:26:27', '09:32:43', '09:38:47', '09:45:17', '09:51:22', '09:57:22', '10:03:22', '10:09:22', '10:15:22', '10:21:22', '10:27:22', '10:33:19', '10:38:57', '10:44:39', '10:51:47', '10:59:47', '11:07:17', '11:14:47', '11:22:17', '11:29:47', '11:37:17', '11:44:47', '11:52:17', '11:59:47', '12:07:17', '12:14:47', '12:22:17', '12:29:47', '12:37:17', '12:44:47', '12:52:17', '12:59:47', '13:07:17', '13:14:47', '13:22:17', '13:29:47', '13:37:17', '13:44:47', '13:52:17', '13:59:47', '14:07:17', '14:14:47', '14:22:17', '14:29:47', '14:37:17', '14:44:47', '14:50:24', '14:52:16', '15:00:15', '15:07:41', '15:13:30', '15:15:15', '15:22:17', '15:28:32', '15:33:55', '15:39:14', '15:44:35', '15:49:57', '15:55:15', '16:00:35', '16:05:55', '16:11:15', '16:16:35', '16:21:55', '16:27:15', '16:32:35', '16:37:55', '16:43:15', '16:48:35', '16:53:55', '16:59:15', '17:04:35', '17:09:55', '17:15:15', '17:20:35', '17:25:55', '17:31:15', '17:36:35', '17:41:55', '17:47:15', '17:52:35', '17:57:55', '18:03:15', '18:08:35', '18:13:55', '18:19:15', '18:24:35', '18:29:55', '18:35:15', '18:40:35', '18:45:55', '18:51:15', '18:56:35', '19:01:55', '19:07:15', '19:12:35', '19:17:55', '19:24:49', '19:31:49', '19:37:51', '19:44:51', '19:51:51', '19:58:51', '20:05:51', '20:12:51', '20:19:51', '20:26:51', '20:33:51', '20:40:51', '20:47:51', '20:55:28', '21:05:28', '21:15:28', '21:25:28', '21:35:28', '21:45:28', '21:55:28', '22:05:28', '22:15:28', '22:25:28', '22:35:28', '22:45:28', '22:55:28', '23:05:28', '23:15:28', '23:25:28', '23:35:28', '23:45:28', '23:50:28', '24:05:28', '24:25:28']\n",
      "[18623, 19035, 19584, 20019, 21062, 21620, 22306, 22553, 23032, 23547, 23765, 24228, 24611, 24971, 25331, 25691, 26051, 26411, 26771, 27131, 27491, 27851, 28211, 28571, 28931, 29291, 29651, 30011, 30371, 30731, 31091, 31451, 31811, 32171, 32531, 32891, 33251, 33611, 33987, 34363, 34727, 35117, 35482, 35842, 36202, 36562, 36922, 37282, 37642, 37999, 38337, 38679, 39107, 39587, 40037, 40487, 40937, 41387, 41837, 42287, 42737, 43187, 43637, 44087, 44537, 44987, 45437, 45887, 46337, 46787, 47237, 47687, 48137, 48587, 49037, 49487, 49937, 50387, 50837, 51287, 51737, 52187, 52637, 53087, 53424, 53536, 54015, 54461, 54810, 54915, 55337, 55712, 56035, 56354, 56675, 56997, 57315, 57635, 57955, 58275, 58595, 58915, 59235, 59555, 59875, 60195, 60515, 60835, 61155, 61475, 61795, 62115, 62435, 62755, 63075, 63395, 63715, 64035, 64355, 64675, 64995, 65315, 65635, 65955, 66275, 66595, 66915, 67235, 67555, 67875, 68195, 68515, 68835, 69155, 69475, 69889, 70309, 70671, 71091, 71511, 71931, 72351, 72771, 73191, 73611, 74031, 74451, 74871, 75328, 75928, 76528, 77128, 77728, 78328, 78928, 79528, 80128, 80728, 81328, 81928, 82528, 83128, 83728, 84328, 84928, 85528, 85828, 86728, 87928]\n"
     ]
    }
   ],
   "source": [
    "\n",
    "def time_to_sec(time:str):\n",
    "    time = time.split(\":\")\n",
    "    hours, minutes, seconds = int(time[0]), int(time[1]), int(time[2])\n",
    "    return hours*60*60+minutes*60+seconds\n",
    "\n",
    "\n",
    "\n",
    "\n",
    "temp = []\n",
    "for i in range(len(df_metro_time)):\n",
    "    if df_metro_time.stop_id[i] == \"8731\" and  df_metro_time.direction_id[i] == 1 and df_metro_time.week[i] == 1 and df_metro_time.route_id[i] == 1 and df_metro_time.start_date[i] == 20210823: #df_metro_time.direction_id[i] == 1\n",
    "        temp.append(df_metro_time.arrival_time[i])\n",
    "\n",
    "temp.sort()\n",
    "print(temp)\n",
    "for i in range(len(temp)):\n",
    "    temp[i] = time_to_sec(temp[i])\n",
    "print(temp)\n",
    "\n",
    "time_diff = []\n",
    "x = []\n",
    "y = []\n",
    "\n",
    "for i in range(len(temp)-1):\n",
    "    # if round((temp[i+1]-temp[i])/60, 2):\n",
    "        x.append(round(temp[i]/3600, 2))\n",
    "        y.append(round((temp[i+1]-temp[i])/60, 2))"
   ]
  },
  {
   "cell_type": "code",
   "execution_count": 108,
   "metadata": {},
   "outputs": [
    {
     "name": "stdout",
     "output_type": "stream",
     "text": [
      "[5.17, 5.29, 5.44, 5.56, 5.85, 6.01, 6.2, 6.26, 6.4, 6.54, 6.6, 6.73, 6.84, 6.94, 7.04, 7.14, 7.24, 7.34, 7.44, 7.54, 7.64, 7.74, 7.84, 7.94, 8.04, 8.14, 8.24, 8.34, 8.44, 8.54, 8.64, 8.74, 8.84, 8.94, 9.04, 9.14, 9.24, 9.34, 9.44, 9.55, 9.65, 9.75, 9.86, 9.96, 10.06, 10.16, 10.26, 10.36, 10.46, 10.56, 10.65, 10.74, 10.86, 11.0, 11.12, 11.25, 11.37, 11.5, 11.62, 11.75, 11.87, 12.0, 12.12, 12.25, 12.37, 12.5, 12.62, 12.75, 12.87, 13.0, 13.12, 13.25, 13.37, 13.5, 13.62, 13.75, 13.87, 14.0, 14.12, 14.25, 14.37, 14.5, 14.62, 14.75, 14.84, 14.87, 15.0, 15.13, 15.22, 15.25, 15.37, 15.48, 15.57, 15.65, 15.74, 15.83, 15.92, 16.01, 16.1, 16.19, 16.28, 16.37, 16.45, 16.54, 16.63, 16.72, 16.81, 16.9, 16.99, 17.08, 17.17, 17.25, 17.34, 17.43, 17.52, 17.61, 17.7, 17.79, 17.88, 17.97, 18.05, 18.14, 18.23, 18.32, 18.41, 18.5, 18.59, 18.68, 18.77, 18.85, 18.94, 19.03, 19.12, 19.21, 19.3, 19.41, 19.53, 19.63, 19.75, 19.86, 19.98, 20.1, 20.21, 20.33, 20.45, 20.56, 20.68, 20.8, 20.92, 21.09, 21.26, 21.42, 21.59, 21.76, 21.92, 22.09, 22.26, 22.42, 22.59, 22.76, 22.92, 23.09, 23.26, 23.42, 23.59, 23.76, 23.84, 24.09]\n"
     ]
    }
   ],
   "source": [
    "print(x)"
   ]
  },
  {
   "cell_type": "code",
   "execution_count": 109,
   "metadata": {},
   "outputs": [
    {
     "name": "stdout",
     "output_type": "stream",
     "text": [
      "[6.87, 9.15, 7.25, 17.38, 9.3, 11.43, 4.12, 7.98, 8.58, 3.63, 7.72, 6.38, 6.0, 6.0, 6.0, 6.0, 6.0, 6.0, 6.0, 6.0, 6.0, 6.0, 6.0, 6.0, 6.0, 6.0, 6.0, 6.0, 6.0, 6.0, 6.0, 6.0, 6.0, 6.0, 6.0, 6.0, 6.0, 6.27, 6.27, 6.07, 6.5, 6.08, 6.0, 6.0, 6.0, 6.0, 6.0, 6.0, 5.95, 5.63, 5.7, 7.13, 8.0, 7.5, 7.5, 7.5, 7.5, 7.5, 7.5, 7.5, 7.5, 7.5, 7.5, 7.5, 7.5, 7.5, 7.5, 7.5, 7.5, 7.5, 7.5, 7.5, 7.5, 7.5, 7.5, 7.5, 7.5, 7.5, 7.5, 7.5, 7.5, 7.5, 7.5, 5.62, 1.87, 7.98, 7.43, 5.82, 1.75, 7.03, 6.25, 5.38, 5.32, 5.35, 5.37, 5.3, 5.33, 5.33, 5.33, 5.33, 5.33, 5.33, 5.33, 5.33, 5.33, 5.33, 5.33, 5.33, 5.33, 5.33, 5.33, 5.33, 5.33, 5.33, 5.33, 5.33, 5.33, 5.33, 5.33, 5.33, 5.33, 5.33, 5.33, 5.33, 5.33, 5.33, 5.33, 5.33, 5.33, 5.33, 5.33, 5.33, 5.33, 5.33, 6.9, 7.0, 6.03, 7.0, 7.0, 7.0, 7.0, 7.0, 7.0, 7.0, 7.0, 7.0, 7.0, 7.62, 10.0, 10.0, 10.0, 10.0, 10.0, 10.0, 10.0, 10.0, 10.0, 10.0, 10.0, 10.0, 10.0, 10.0, 10.0, 10.0, 10.0, 5.0, 15.0, 20.0]\n"
     ]
    }
   ],
   "source": [
    "print(y)"
   ]
  },
  {
   "cell_type": "code",
   "execution_count": 110,
   "metadata": {},
   "outputs": [
    {
     "data": {
      "image/png": "[encoded data removed]",
      "text/plain": [
       "<Figure size 1080x720 with 1 Axes>"
      ]
     },
     "metadata": {
      "needs_background": "light"
     },
     "output_type": "display_data"
    }
   ],
   "source": [
    "import matplotlib.pyplot as plt\n",
    "plt.figure(figsize=(15, 10))\n",
    "plt.plot(x, y)\n",
    "# naming the x axis\n",
    "plt.xlabel('hours of the day')\n",
    "# naming the y axis\n",
    "plt.ylabel('time between the next metro in minutes')\n",
    "plt.title('time between the next metro for a whole day during the week at stop_id 8743 in direction 1 and with route_id 3')\n",
    "plt.show()"
   ]
  },
  {
   "cell_type": "code",
   "execution_count": null,
   "metadata": {},
   "outputs": [],
   "source": []
  }
 ],
 "metadata": {
  "kernelspec": {
   "display_name": "Python 3 (ipykernel)",
   "language": "python",
   "name": "python3"
  },
  "language_info": {
   "codemirror_mode": {
    "name": "ipython",
    "version": 3
   },
   "file_extension": ".py",
   "mimetype": "text/x-python",
   "name": "python",
   "nbconvert_exporter": "python",
   "pygments_lexer": "ipython3",
   "version": "3.8.10"
  },
  "vscode": {
   "interpreter": {
    "hash": "916dbcbb3f70747c44a77c7bcd40155683ae19c65e1c03b4aa3499c5328201f1"
   }
  }
 },
 "nbformat": 4,
 "nbformat_minor": 2
}
