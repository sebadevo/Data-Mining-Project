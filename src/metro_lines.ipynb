{
 "cells": [
  {
   "cell_type": "code",
   "execution_count": 1,
   "metadata": {},
   "outputs": [],
   "source": [
    "import pandas as pd\n",
    "import numpy\n",
    "import json\n",
    "\n",
    "\n",
    "file_mode = \"../data/ACTU_STOPS_0.csv\"\n",
    "file_trips = \"../data/gtfs3Sept/trips.csv\"\n",
    "file_routes = \"../data/gtfs3Sept/routes.csv\"\n",
    "file_stop_times = \"../data/gtfs3Sept/stop_times.csv\"\n",
    "file_stops = \"../data/gtfs3Sept/stops.csv\"\n",
    "file_calendar = \"../data/gtfs3Sept/calendar.csv\""
   ]
  },
  {
   "cell_type": "code",
   "execution_count": 2,
   "metadata": {},
   "outputs": [],
   "source": [
    "# df_stops = pd.read_csv(file_stops)"
   ]
  },
  {
   "cell_type": "code",
   "execution_count": 3,
   "metadata": {},
   "outputs": [
    {
     "name": "stdout",
     "output_type": "stream",
     "text": [
      "       FID Code_Ligne  Variante  succession stop_id           descr_fr  \\\n",
      "3092  3093       001m         1          14    8092  JOSEPH.-CHARLOTTE   \n",
      "3178  3179       001m         1          15    8102         GRIBAUMONT   \n",
      "3179  3180       001m         1          16    8112            TOMBERG   \n",
      "3180  3181       001m         1          17    8122          ROODEBEEK   \n",
      "3181  3182       001m         1          18    8132        VANDERVELDE   \n",
      "...    ...        ...       ...         ...     ...                ...   \n",
      "4171  4172       001m         1           9    8042           ARTS-LOI   \n",
      "4172  4173       001m         1          10    8052           MAELBEEK   \n",
      "4173  4174       001m         1          11    8062            SCHUMAN   \n",
      "4174  4175       001m         1          12    8072             MERODE   \n",
      "4175  4176       001m         1          13    8082         MONTGOMERY   \n",
      "\n",
      "               descr_nl             alpha_fr             alpha_nl   coord_x  \\\n",
      "3092  JOSEPH.-CHARLOTTE  Joséphine-Charlotte  Joséphine-Charlotte  153190.6   \n",
      "3178         GRIBAUMONT           Gribaumont           Gribaumont  153536.7   \n",
      "3179            TOMBERG              Tomberg              Tomberg  154057.9   \n",
      "3180          ROODEBEEK            Roodebeek            Roodebeek  154743.1   \n",
      "3181        VANDERVELDE          Vandervelde          Vandervelde  155531.9   \n",
      "...                 ...                  ...                  ...       ...   \n",
      "4171          KUNST-WET             Arts-Loi            Kunst-Wet  150061.1   \n",
      "4172           MAALBEEK             Maelbeek             Maalbeek  150622.3   \n",
      "4173            SCHUMAN              Schuman              Schuman  150921.0   \n",
      "4174             MERODE               Merode               Merode  152079.9   \n",
      "4175         MONTGOMERY           Montgomery           Montgomery  152761.4   \n",
      "\n",
      "       coord_y mode  numero_lig terminus         x          y  \n",
      "3092  170013.9    M           1  STOCKEL  4.414051  50.840527  \n",
      "3178  170244.1    M           1  STOCKEL  4.418967  50.842595  \n",
      "3179  170493.5    M           1  STOCKEL  4.426369  50.844833  \n",
      "3180  170796.6    M           1  STOCKEL  4.436102  50.847553  \n",
      "3181  170784.8    M           1  STOCKEL  4.447303  50.847439  \n",
      "...        ...  ...         ...      ...       ...        ...  \n",
      "4171  170547.6    M           1  STOCKEL  4.369620  50.845334  \n",
      "4172  170360.8    M           1  STOCKEL  4.377588  50.843654  \n",
      "4173  170261.0    M           1  STOCKEL  4.381829  50.842757  \n",
      "4174  169884.0    M           1  STOCKEL  4.398281  50.839365  \n",
      "4175  169711.0    M           1  STOCKEL  4.407955  50.837807  \n",
      "\n",
      "[188 rows x 16 columns]\n",
      "   route_id route_short_name            route_long_name  route_desc  \\\n",
      "0         2                1  GARE DE L'OUEST - STOCKEL         NaN   \n",
      "1         4                2        SIMONIS - ELISABETH         NaN   \n",
      "4         1                5  ERASME - HERRMANN-DEBROUX         NaN   \n",
      "5         3                6   ROI BAUDOUIN - ELISABETH         NaN   \n",
      "\n",
      "   route_type  route_url route_color route_text_color  \n",
      "0           1        NaN      C4008F           FFFFFF  \n",
      "1           1        NaN      F57000           FFFFFF  \n",
      "4           1        NaN      E6B012           FFFFFF  \n",
      "5           1        NaN      0078AD           FFFFFF  \n",
      "       route_id  service_id             trip_id  direction_id\n",
      "80299         1   234578052  112585711234578052             1\n",
      "80300         1   234578052  112585712234578052             1\n",
      "80301         1   234578052  112585714234578052             0\n",
      "80302         1   234578052  112585715234578052             0\n",
      "80303         1   234578052  112585717234578052             1\n",
      "...         ...         ...                 ...           ...\n",
      "88833         1   237269601  113423843237269601             1\n",
      "88834         1   237269601  113423845237269601             0\n",
      "88835         1   237269601  113423847237269601             1\n",
      "88836         1   237269601  113423849237269601             0\n",
      "88837         1   237269601  113423851237269601             1\n",
      "\n",
      "[8539 rows x 4 columns]\n"
     ]
    }
   ],
   "source": [
    "\"\"\"\n",
    "creation of the metro trips dataset\n",
    "\"\"\"\n",
    "df_mode = pd.read_csv(file_mode)\n",
    "df_trips = pd.read_csv(file_trips)\n",
    "df_routes = pd.read_csv(file_routes)\n",
    "\n",
    "df_mode_metro = df_mode[df_mode[\"mode\"]==\"M\"]\n",
    "print(df_mode_metro)\n",
    "\n",
    "df_metro_id_str= df_mode_metro.numero_lig.astype(str)\n",
    "df_routes_metro = df_routes[df_routes.route_short_name.isin(df_metro_id_str)]\n",
    "print(df_routes_metro)\n",
    "\n",
    "df_metro_trips = df_trips[df_trips.route_id.isin(df_routes_metro.route_id)]\n",
    "df_metro_trips = df_metro_trips.drop([\"trip_headsign\", \"block_id\", \"shape_id\"], axis=1)\n",
    "print(df_metro_trips)"
   ]
  },
  {
   "cell_type": "code",
   "execution_count": 4,
   "metadata": {},
   "outputs": [
    {
     "name": "stdout",
     "output_type": "stream",
     "text": [
      "     service_id  saturday  sunday  week\n",
      "0     234578052         0       0     1\n",
      "1     236986502         1       0     0\n",
      "2     236988602         0       1     0\n",
      "3     236270000         0       0     1\n",
      "4     236269500         1       0     0\n",
      "..          ...       ...     ...   ...\n",
      "432   237102501         1       0     0\n",
      "433   237472602         0       1     0\n",
      "434   237451600         0       1     0\n",
      "435   238036502         1       0     0\n",
      "436   238255501         1       0     0\n",
      "\n",
      "[437 rows x 4 columns]\n"
     ]
    }
   ],
   "source": [
    "\"\"\"\n",
    "filtering the calendar dataset in week, saturday, sunday\n",
    "\"\"\"\n",
    "df_calendar = pd.read_csv(file_calendar)\n",
    "df_calendar[\"week\"] = df_calendar['monday']*df_calendar['tuesday']*df_calendar['wednesday']*df_calendar['thursday']*df_calendar['friday']\n",
    "df_calendar.drop(['monday', 'tuesday', 'wednesday', 'thursday', 'friday', 'start_date', 'end_date'], inplace=True, axis=1)\n",
    "\n",
    "print(df_calendar)"
   ]
  },
  {
   "cell_type": "code",
   "execution_count": 5,
   "metadata": {},
   "outputs": [
    {
     "name": "stdout",
     "output_type": "stream",
     "text": [
      "      route_id  service_id             trip_id  direction_id  saturday  \\\n",
      "0            1   234578052  112585711234578052             1         0   \n",
      "1            1   234578052  112585712234578052             1         0   \n",
      "2            1   234578052  112585714234578052             0         0   \n",
      "3            1   234578052  112585715234578052             0         0   \n",
      "4            1   234578052  112585717234578052             1         0   \n",
      "...        ...         ...                 ...           ...       ...   \n",
      "8534         1   237269601  113423843237269601             1         0   \n",
      "8535         1   237269601  113423845237269601             0         0   \n",
      "8536         1   237269601  113423847237269601             1         0   \n",
      "8537         1   237269601  113423849237269601             0         0   \n",
      "8538         1   237269601  113423851237269601             1         0   \n",
      "\n",
      "      sunday  week  \n",
      "0          0     1  \n",
      "1          0     1  \n",
      "2          0     1  \n",
      "3          0     1  \n",
      "4          0     1  \n",
      "...      ...   ...  \n",
      "8534       1     0  \n",
      "8535       1     0  \n",
      "8536       1     0  \n",
      "8537       1     0  \n",
      "8538       1     0  \n",
      "\n",
      "[8539 rows x 7 columns]\n"
     ]
    }
   ],
   "source": [
    "\"\"\"\n",
    "joining calendar and metro trip\n",
    "\"\"\"\n",
    "df_metro_trip_calendar = pd.merge(df_metro_trips, df_calendar, on=\"service_id\")\n",
    "print(df_metro_trip_calendar)"
   ]
  },
  {
   "cell_type": "code",
   "execution_count": 6,
   "metadata": {},
   "outputs": [
    {
     "name": "stdout",
     "output_type": "stream",
     "text": [
      "        route_id  service_id             trip_id  direction_id  saturday  \\\n",
      "0              1   234578052  112585711234578052             1         0   \n",
      "1              1   234578052  112585711234578052             1         0   \n",
      "2              1   234578052  112585711234578052             1         0   \n",
      "3              1   234578052  112585711234578052             1         0   \n",
      "4              1   234578052  112585711234578052             1         0   \n",
      "...          ...         ...                 ...           ...       ...   \n",
      "199764         1   237269601  113423851237269601             1         0   \n",
      "199765         1   237269601  113423851237269601             1         0   \n",
      "199766         1   237269601  113423851237269601             1         0   \n",
      "199767         1   237269601  113423851237269601             1         0   \n",
      "199768         1   237269601  113423851237269601             1         0   \n",
      "\n",
      "        sunday  week arrival_time departure_time stop_id  stop_sequence  \n",
      "0            0     1     05:09:23       05:09:23    8743              1  \n",
      "1            0     1     05:10:23       05:10:23    8731              2  \n",
      "2            0     1     05:11:49       05:11:49    8721              3  \n",
      "3            0     1     05:13:27       05:13:27    8711              4  \n",
      "4            0     1     05:15:12       05:15:12    8701              5  \n",
      "...        ...   ...          ...            ...     ...            ...  \n",
      "199764       1     0     23:21:20       23:21:20    8681             24  \n",
      "199765       1     0     23:22:26       23:22:26    8671             25  \n",
      "199766       1     0     23:23:39       23:23:39    8661             26  \n",
      "199767       1     0     23:24:56       23:24:56    8651             27  \n",
      "199768       1     0     23:26:58       23:26:58    8641             28  \n",
      "\n",
      "[199769 rows x 11 columns]\n"
     ]
    }
   ],
   "source": [
    "\"\"\"\n",
    "merging stop_times and metro_trip_calendar\n",
    "\"\"\"\n",
    "df_stop_times = pd.read_csv(file_stop_times)\n",
    "df_stop_times.drop([\"pickup_type\", \"drop_off_type\"], inplace=True, axis=1)\n",
    "df_metro_time = pd.merge(df_metro_trip_calendar, df_stop_times, on=\"trip_id\")\n",
    "print(df_metro_time)\n"
   ]
  },
  {
   "cell_type": "code",
   "execution_count": 7,
   "metadata": {},
   "outputs": [
    {
     "name": "stdout",
     "output_type": "stream",
     "text": [
      "['8743' '8731' '8721' '8711' '8701' '8691' '8681' '8671' '8661' '8651'\n",
      " '8642' '8641' '8652' '8662' '8672' '8682' '8692' '8702' '8712' '8722'\n",
      " '8732' '8742' '8292' '8282' '8272' '8012' '8022' '8032' '8042' '8052'\n",
      " '8062' '8072' '8202' '8212' '8222' '8232' '8242' '8252' '8262' '8231'\n",
      " '8221' '8211' '8201' '8071' '8061' '8051' '8041' '8031' '8021' '8011'\n",
      " '8271' '8281' '8291' '8741' '8251' '8241' '8261' '8161' '8151' '8141'\n",
      " '8131' '8121' '8111' '8101' '8091' '8081' '8162' '8733' '8082' '8092'\n",
      " '8102' '8112' '8122' '8132' '8142' '8152' '8471' '8461' '8441' '8431'\n",
      " '8421' '8411' '8401' '8301' '8311' '8321' '8331' '8341' '8351' '8361'\n",
      " '8371' '8381' '8753' '8763' '8773' '8783' '8793' '8803' '8813' '8823'\n",
      " '8834' '8833' '8824' '8814' '8804' '8794' '8784' '8774' '8764' '8754'\n",
      " '8744' '8382' '8372' '8362' '8352' '8342' '8332' '8322' '8312' '8302'\n",
      " '8402' '8412' '8422' '8432' '8442' '8462' '8472']\n",
      "127\n"
     ]
    }
   ],
   "source": [
    "print(df_metro_time.stop_id.unique())\n",
    "print(len(df_metro_time.stop_id.unique()))"
   ]
  },
  {
   "cell_type": "code",
   "execution_count": 8,
   "metadata": {},
   "outputs": [
    {
     "name": "stdout",
     "output_type": "stream",
     "text": [
      "['05:35:00', '05:37:41', '05:53:36', '05:53:36', '06:00:01', '06:03:39', '06:09:01', '06:16:19', '06:23:24', '06:28:24', '06:28:50', '06:34:48', '06:41:24', '06:44:04', '06:47:44', '06:54:04', '06:54:04', '07:00:24', '07:00:24', '07:06:44', '07:06:44', '07:13:04', '07:13:04', '07:19:24', '07:19:24', '07:25:44', '07:25:44', '07:32:04', '07:32:04', '07:38:24', '07:38:24', '07:44:44', '07:44:44', '07:51:04', '07:51:04', '07:57:24', '07:57:24', '08:03:44', '08:03:44', '08:10:04', '08:10:04', '08:16:24', '08:16:24', '08:22:44', '08:22:44', '08:29:04', '08:29:04', '08:35:24', '08:35:24', '08:41:44', '08:41:44', '08:48:04', '08:48:04', '08:54:24', '08:54:24', '09:00:44', '09:00:44', '09:07:04', '09:07:04', '09:13:24', '09:13:24', '09:19:44', '09:19:44', '09:26:04', '09:26:04', '09:32:24', '09:32:24', '09:38:44', '09:38:47', '09:45:02', '09:45:04', '09:51:17', '09:51:24', '09:57:37', '09:57:44', '10:03:57', '10:04:04', '10:10:17', '10:10:24', '10:16:37', '10:16:44', '10:22:57', '10:23:04', '10:29:17', '10:29:25', '10:36:28', '10:36:28', '10:43:58', '10:43:58', '10:51:28', '10:51:28', '10:58:58', '10:58:58', '11:06:28', '11:06:28', '11:13:58', '11:13:58', '11:21:28', '11:21:28', '11:28:58', '11:28:58', '11:36:28', '11:36:28', '11:43:58', '11:43:58', '11:51:28', '11:51:28', '11:58:58', '11:58:58', '12:06:28', '12:06:28', '12:13:58', '12:13:58', '12:21:28', '12:21:28', '12:28:58', '12:28:58', '12:36:28', '12:36:28', '12:43:58', '12:43:58', '12:51:28', '12:51:28', '12:58:58', '12:58:58', '13:06:28', '13:06:28', '13:13:58', '13:13:58', '13:21:28', '13:21:28', '13:28:58', '13:28:58', '13:36:28', '13:36:28', '13:43:58', '13:43:58', '13:51:28', '13:51:28', '13:58:58', '13:58:58', '14:06:28', '14:06:28', '14:13:58', '14:13:58', '14:21:28', '14:21:28', '14:28:58', '14:28:58', '14:36:28', '14:36:28', '14:43:58', '14:43:58', '14:49:28', '14:49:28', '14:51:28', '14:51:28', '14:58:58', '14:58:58', '15:06:28', '15:06:28', '15:13:58', '15:13:58', '15:21:28', '15:21:28', '15:28:13', '15:28:13', '15:34:30', '15:34:30', '15:40:48', '15:40:48', '15:47:10', '15:47:10', '15:53:30', '15:53:30', '15:59:50', '15:59:50', '16:06:10', '16:06:10', '16:12:30', '16:12:30', '16:18:50', '16:18:50', '16:25:10', '16:25:10', '16:31:30', '16:31:30', '16:37:50', '16:37:50', '16:44:10', '16:44:10', '16:50:30', '16:50:30', '16:56:50', '16:56:50', '17:03:10', '17:03:10', '17:09:30', '17:09:30', '17:15:50', '17:15:50', '17:22:10', '17:22:10', '17:28:30', '17:28:30', '17:34:50', '17:34:50', '17:41:10', '17:41:10', '17:47:30', '17:47:30', '17:53:50', '17:53:50', '18:00:10', '18:00:10', '18:06:30', '18:06:30', '18:12:50', '18:12:50', '18:19:10', '18:19:10', '18:25:30', '18:25:30', '18:31:50', '18:31:50', '18:38:10', '18:38:10', '18:44:30', '18:44:30', '18:50:50', '18:50:50', '18:57:10', '18:57:10', '19:03:30', '19:03:30', '19:09:50', '19:09:50', '19:16:10', '19:16:10', '19:22:30', '19:22:30', '19:28:50', '19:28:50', '19:35:16', '19:35:16', '19:41:36', '19:41:36', '19:47:56', '19:47:56', '19:51:06', '19:54:16', '19:54:16', '20:00:36', '20:01:14', '20:09:11', '20:09:37', '20:19:11', '20:19:11', '20:29:11', '20:29:11', '20:39:11', '20:39:11', '20:49:11', '20:49:11', '20:59:11', '20:59:11', '21:09:11', '21:09:11', '21:19:11', '21:19:11', '21:29:11', '21:29:11', '21:39:11', '21:39:11', '21:49:11', '21:49:11', '21:59:11', '21:59:11', '22:09:11', '22:09:11', '22:19:11', '22:19:11', '22:29:11', '22:29:11', '22:39:11', '22:39:11', '22:49:11', '22:49:11', '22:59:11', '22:59:11', '23:09:11', '23:09:11', '23:14:11', '23:19:11', '23:19:11', '23:29:11', '23:29:11', '23:34:11', '23:34:11', '23:39:11', '23:54:11', '23:54:11', '24:04:11', '24:04:11', '24:14:11', '24:14:11', '24:24:11', '24:24:11']\n",
      "[20100, 20261, 21216, 21216, 21601, 21819, 22141, 22579, 23004, 23304, 23330, 23688, 24084, 24244, 24464, 24844, 24844, 25224, 25224, 25604, 25604, 25984, 25984, 26364, 26364, 26744, 26744, 27124, 27124, 27504, 27504, 27884, 27884, 28264, 28264, 28644, 28644, 29024, 29024, 29404, 29404, 29784, 29784, 30164, 30164, 30544, 30544, 30924, 30924, 31304, 31304, 31684, 31684, 32064, 32064, 32444, 32444, 32824, 32824, 33204, 33204, 33584, 33584, 33964, 33964, 34344, 34344, 34724, 34727, 35102, 35104, 35477, 35484, 35857, 35864, 36237, 36244, 36617, 36624, 36997, 37004, 37377, 37384, 37757, 37765, 38188, 38188, 38638, 38638, 39088, 39088, 39538, 39538, 39988, 39988, 40438, 40438, 40888, 40888, 41338, 41338, 41788, 41788, 42238, 42238, 42688, 42688, 43138, 43138, 43588, 43588, 44038, 44038, 44488, 44488, 44938, 44938, 45388, 45388, 45838, 45838, 46288, 46288, 46738, 46738, 47188, 47188, 47638, 47638, 48088, 48088, 48538, 48538, 48988, 48988, 49438, 49438, 49888, 49888, 50338, 50338, 50788, 50788, 51238, 51238, 51688, 51688, 52138, 52138, 52588, 52588, 53038, 53038, 53368, 53368, 53488, 53488, 53938, 53938, 54388, 54388, 54838, 54838, 55288, 55288, 55693, 55693, 56070, 56070, 56448, 56448, 56830, 56830, 57210, 57210, 57590, 57590, 57970, 57970, 58350, 58350, 58730, 58730, 59110, 59110, 59490, 59490, 59870, 59870, 60250, 60250, 60630, 60630, 61010, 61010, 61390, 61390, 61770, 61770, 62150, 62150, 62530, 62530, 62910, 62910, 63290, 63290, 63670, 63670, 64050, 64050, 64430, 64430, 64810, 64810, 65190, 65190, 65570, 65570, 65950, 65950, 66330, 66330, 66710, 66710, 67090, 67090, 67470, 67470, 67850, 67850, 68230, 68230, 68610, 68610, 68990, 68990, 69370, 69370, 69750, 69750, 70130, 70130, 70516, 70516, 70896, 70896, 71276, 71276, 71466, 71656, 71656, 72036, 72074, 72551, 72577, 73151, 73151, 73751, 73751, 74351, 74351, 74951, 74951, 75551, 75551, 76151, 76151, 76751, 76751, 77351, 77351, 77951, 77951, 78551, 78551, 79151, 79151, 79751, 79751, 80351, 80351, 80951, 80951, 81551, 81551, 82151, 82151, 82751, 82751, 83351, 83351, 83651, 83951, 83951, 84551, 84551, 84851, 84851, 85151, 86051, 86051, 86651, 86651, 87251, 87251, 87851, 87851]\n"
     ]
    }
   ],
   "source": [
    "\n",
    "def time_to_sec(time:str):\n",
    "    time = time.split(\":\")\n",
    "    hours, minutes, seconds = int(time[0]), int(time[1]), int(time[2])\n",
    "    return hours*60*60+minutes*60+seconds\n",
    "\n",
    "\n",
    "\n",
    "\n",
    "temp=[]\n",
    "for i in range(len(df_metro_time)):\n",
    "    if df_metro_time.stop_id[i] == \"8743\" and df_metro_time.direction_id[i] == 1 and df_metro_time.week[i] == 1 and df_metro_time.route_id[i] == 3:\n",
    "        temp.append(df_metro_time.arrival_time[i])\n",
    "\n",
    "temp.sort()\n",
    "print(temp)\n",
    "for i in range(len(temp)):\n",
    "    temp[i] = time_to_sec(temp[i])\n",
    "print(temp)\n",
    "\n",
    "time_diff = []\n",
    "x = []\n",
    "y = []\n",
    "\n",
    "for i in range(len(temp)-1):\n",
    "    if round((temp[i+1]-temp[i])/60, 2):\n",
    "        x.append(round(temp[i]/3600, 2))\n",
    "        y.append(round((temp[i+1]-temp[i])/60, 2))"
   ]
  },
  {
   "cell_type": "code",
   "execution_count": 9,
   "metadata": {},
   "outputs": [
    {
     "name": "stdout",
     "output_type": "stream",
     "text": [
      "[5.58, 5.63, 5.89, 6.0, 6.06, 6.15, 6.27, 6.39, 6.47, 6.48, 6.58, 6.69, 6.73, 6.8, 6.9, 7.01, 7.11, 7.22, 7.32, 7.43, 7.53, 7.64, 7.75, 7.85, 7.96, 8.06, 8.17, 8.27, 8.38, 8.48, 8.59, 8.7, 8.8, 8.91, 9.01, 9.12, 9.22, 9.33, 9.43, 9.54, 9.65, 9.65, 9.75, 9.75, 9.85, 9.86, 9.96, 9.96, 10.07, 10.07, 10.17, 10.17, 10.28, 10.28, 10.38, 10.38, 10.49, 10.49, 10.61, 10.73, 10.86, 10.98, 11.11, 11.23, 11.36, 11.48, 11.61, 11.73, 11.86, 11.98, 12.11, 12.23, 12.36, 12.48, 12.61, 12.73, 12.86, 12.98, 13.11, 13.23, 13.36, 13.48, 13.61, 13.73, 13.86, 13.98, 14.11, 14.23, 14.36, 14.48, 14.61, 14.73, 14.82, 14.86, 14.98, 15.11, 15.23, 15.36, 15.47, 15.57, 15.68, 15.79, 15.89, 16.0, 16.1, 16.21, 16.31, 16.42, 16.52, 16.63, 16.74, 16.84, 16.95, 17.05, 17.16, 17.26, 17.37, 17.48, 17.58, 17.69, 17.79, 17.9, 18.0, 18.11, 18.21, 18.32, 18.43, 18.53, 18.64, 18.74, 18.85, 18.95, 19.06, 19.16, 19.27, 19.38, 19.48, 19.59, 19.69, 19.8, 19.85, 19.9, 20.01, 20.02, 20.15, 20.16, 20.32, 20.49, 20.65, 20.82, 20.99, 21.15, 21.32, 21.49, 21.65, 21.82, 21.99, 22.15, 22.32, 22.49, 22.65, 22.82, 22.99, 23.15, 23.24, 23.32, 23.49, 23.57, 23.65, 23.9, 24.07, 24.24]\n"
     ]
    }
   ],
   "source": [
    "print(x)"
   ]
  },
  {
   "cell_type": "code",
   "execution_count": 10,
   "metadata": {},
   "outputs": [
    {
     "name": "stdout",
     "output_type": "stream",
     "text": [
      "[2.68, 15.92, 6.42, 3.63, 5.37, 7.3, 7.08, 5.0, 0.43, 5.97, 6.6, 2.67, 3.67, 6.33, 6.33, 6.33, 6.33, 6.33, 6.33, 6.33, 6.33, 6.33, 6.33, 6.33, 6.33, 6.33, 6.33, 6.33, 6.33, 6.33, 6.33, 6.33, 6.33, 6.33, 6.33, 6.33, 6.33, 6.33, 6.33, 6.33, 0.05, 6.25, 0.03, 6.22, 0.12, 6.22, 0.12, 6.22, 0.12, 6.22, 0.12, 6.22, 0.12, 6.22, 0.12, 6.22, 0.13, 7.05, 7.5, 7.5, 7.5, 7.5, 7.5, 7.5, 7.5, 7.5, 7.5, 7.5, 7.5, 7.5, 7.5, 7.5, 7.5, 7.5, 7.5, 7.5, 7.5, 7.5, 7.5, 7.5, 7.5, 7.5, 7.5, 7.5, 7.5, 7.5, 7.5, 7.5, 7.5, 7.5, 7.5, 5.5, 2.0, 7.5, 7.5, 7.5, 7.5, 6.75, 6.28, 6.3, 6.37, 6.33, 6.33, 6.33, 6.33, 6.33, 6.33, 6.33, 6.33, 6.33, 6.33, 6.33, 6.33, 6.33, 6.33, 6.33, 6.33, 6.33, 6.33, 6.33, 6.33, 6.33, 6.33, 6.33, 6.33, 6.33, 6.33, 6.33, 6.33, 6.33, 6.33, 6.33, 6.33, 6.33, 6.33, 6.33, 6.43, 6.33, 6.33, 3.17, 3.17, 6.33, 0.63, 7.95, 0.43, 9.57, 10.0, 10.0, 10.0, 10.0, 10.0, 10.0, 10.0, 10.0, 10.0, 10.0, 10.0, 10.0, 10.0, 10.0, 10.0, 10.0, 10.0, 5.0, 5.0, 10.0, 5.0, 5.0, 15.0, 10.0, 10.0, 10.0]\n"
     ]
    }
   ],
   "source": [
    "print(y)"
   ]
  },
  {
   "cell_type": "code",
   "execution_count": 11,
   "metadata": {},
   "outputs": [
    {
     "data": {
      "image/png": "[encoded data removed]",
      "text/plain": [
       "<Figure size 1080x720 with 1 Axes>"
      ]
     },
     "metadata": {
      "needs_background": "light"
     },
     "output_type": "display_data"
    }
   ],
   "source": [
    "import matplotlib.pyplot as plt\n",
    "plt.figure(figsize=(15, 10))\n",
    "plt.plot(x, y)\n",
    "# naming the x axis\n",
    "plt.xlabel('hours of the day')\n",
    "# naming the y axis\n",
    "plt.ylabel('time between the next metro in minutes')\n",
    "plt.title('time between the next metro for a whole day during the week at stop_id 8743 in direction 1 and with route_id 3')\n",
    "plt.show()"
   ]
  },
  {
   "cell_type": "code",
   "execution_count": null,
   "metadata": {},
   "outputs": [],
   "source": []
  }
 ],
 "metadata": {
  "kernelspec": {
   "display_name": "Python 3 (ipykernel)",
   "language": "python",
   "name": "python3"
  },
  "language_info": {
   "codemirror_mode": {
    "name": "ipython",
    "version": 3
   },
   "file_extension": ".py",
   "mimetype": "text/x-python",
   "name": "python",
   "nbconvert_exporter": "python",
   "pygments_lexer": "ipython3",
   "version": "3.8.10"
  },
  "vscode": {
   "interpreter": {
    "hash": "916dbcbb3f70747c44a77c7bcd40155683ae19c65e1c03b4aa3499c5328201f1"
   }
  }
 },
 "nbformat": 4,
 "nbformat_minor": 2
}
