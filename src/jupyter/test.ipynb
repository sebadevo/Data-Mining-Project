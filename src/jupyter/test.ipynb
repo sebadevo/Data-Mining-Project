{
 "cells": [
  {
   "cell_type": "code",
   "execution_count": 8,
   "metadata": {},
   "outputs": [],
   "source": [
    "import pandas as pd\n",
    "import numpy as np\n",
    "import matplotlib.pyplot as plt\n",
    "from sklearn import cluster\n",
    "import mysql.connector\n",
    "from time import process_time\n"
   ]
  },
  {
   "cell_type": "code",
   "execution_count": 17,
   "metadata": {},
   "outputs": [],
   "source": [
    "\n",
    "def get_connection():\n",
    "    return mysql.connector.connect(host='localhost', database='stib', user='stib', password='Stib1234!')\n",
    "\n",
    "def query_stop(route_type, line_name):\n",
    "    query = (\n",
    "            \"select ro.routes_long_name, CONCAT(st.stop_id,' - ',s.stop_name) as stops \"\n",
    "            \" from trips tr\" \n",
    "            \" inner join routes ro on tr.route_id = ro.routes_id\"\n",
    "            \" inner join stop_times st on st.trip_id = tr.trip_id\"\n",
    "            \" inner join stops s on s.stop_id = st.stop_id\"\n",
    "            \" where ro.route_type = %s and ro.routes_short_name = %s\" # how do I use direction in this SQL querry ????\n",
    "            )\n",
    "    connection = get_connection()\n",
    "    start_time = process_time()\n",
    "    data = pd.read_sql(query, params=[route_type, line_name], con= connection)\n",
    "    #data['stop_desc'] = data[[\"stop_id\", \"stop_name\"]].apply(lambda x: ' - '.join(x.astype(str)), axis=1)\n",
    "    #data = data[data['routes_long_name'].str.contains(direction)] #NECESSARY ???????\n",
    "    print(f\"Time for the query is {process_time() - start_time}\")\n",
    "    return data"
   ]
  },
  {
   "cell_type": "code",
   "execution_count": 20,
   "metadata": {},
   "outputs": [
    {
     "name": "stderr",
     "output_type": "stream",
     "text": [
      "/tmp/ipykernel_8696/2608688549.py:15: UserWarning: pandas only supports SQLAlchemy connectable (engine/connection) or database string URI or sqlite3 DBAPI2 connection. Other DBAPI2 objects are not tested. Please consider using SQLAlchemy.\n",
      "  data = pd.read_sql(query, params=[route_type, line_name], con= connection)\n"
     ]
    },
    {
     "name": "stdout",
     "output_type": "stream",
     "text": [
      "Time for the query is 0.1250911480000001\n",
      "49\n"
     ]
    }
   ],
   "source": [
    "data = query_stop(3,\"38\")\n",
    "\n",
    "\n",
    "\n",
    "print(len(data.stops.unique()))"
   ]
  }
 ],
 "metadata": {
  "kernelspec": {
   "display_name": "Python 3.10.6 64-bit",
   "language": "python",
   "name": "python3"
  },
  "language_info": {
   "codemirror_mode": {
    "name": "ipython",
    "version": 3
   },
   "file_extension": ".py",
   "mimetype": "text/x-python",
   "name": "python",
   "nbconvert_exporter": "python",
   "pygments_lexer": "ipython3",
   "version": "3.10.6"
  },
  "orig_nbformat": 4,
  "vscode": {
   "interpreter": {
    "hash": "916dbcbb3f70747c44a77c7bcd40155683ae19c65e1c03b4aa3499c5328201f1"
   }
  }
 },
 "nbformat": 4,
 "nbformat_minor": 2
}
