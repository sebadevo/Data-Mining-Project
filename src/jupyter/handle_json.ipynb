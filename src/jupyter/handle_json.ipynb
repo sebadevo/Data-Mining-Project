{
 "cells": [
  {
   "cell_type": "code",
   "execution_count": 3,
   "metadata": {},
   "outputs": [],
   "source": [
    "import pandas as pd\n",
    "import xarray as xr\n",
    "import pandas as pd\n",
    "import numpy as np\n",
    "import json\n",
    "from flatten_json import flatten"
   ]
  },
  {
   "cell_type": "code",
   "execution_count": 4,
   "metadata": {},
   "outputs": [],
   "source": [
    "f = open(\"../../data/vehiclePosition01.json\")\n",
    "\n",
    "data = json.load(f)\n",
    "df = pd.read_json(\"../../data/vehiclePosition01.json\")"
   ]
  },
  {
   "cell_type": "code",
   "execution_count": 45,
   "metadata": {},
   "outputs": [
    {
     "data": {
      "text/plain": [
       "'8012'"
      ]
     },
     "execution_count": 45,
     "metadata": {},
     "output_type": "execute_result"
    }
   ],
   "source": [
    "# 'time' is for each ligne\n",
    "    # there are 9 responses for one specific time\n",
    "        # there are 10 lines for one specific response\n",
    "            # there is 1 lineId\n",
    "            # there are 13 vehiclePositions\n",
    "                #there are 1 directionId\n",
    "                # there are 1 distanceFromPoint\n",
    "                # there are 1 pointId\n",
    "\n",
    "\n",
    "\n",
    "df.data.loc[0]['Responses'][0]['lines'][0]['vehiclePositions'][0]['pointId']\n"
   ]
  }
 ],
 "metadata": {
  "kernelspec": {
   "display_name": "Python 3.10.2 64-bit",
   "language": "python",
   "name": "python3"
  },
  "language_info": {
   "codemirror_mode": {
    "name": "ipython",
    "version": 3
   },
   "file_extension": ".py",
   "mimetype": "text/x-python",
   "name": "python",
   "nbconvert_exporter": "python",
   "pygments_lexer": "ipython3",
   "version": "3.10.2"
  },
  "orig_nbformat": 4,
  "vscode": {
   "interpreter": {
    "hash": "c0d206858f1116ba0b239ec8cd4da2f5475457917c138e111f4bd85e5ec2ff0f"
   }
  }
 },
 "nbformat": 4,
 "nbformat_minor": 2
}
