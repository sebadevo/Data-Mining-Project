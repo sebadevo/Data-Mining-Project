{
 "cells": [
  {
   "cell_type": "code",
   "execution_count": 2,
   "metadata": {},
   "outputs": [],
   "source": [
    "import pandas as pd\n",
    "import numpy as np"
   ]
  },
  {
   "cell_type": "markdown",
   "metadata": {},
   "source": [
    "# Loading the data"
   ]
  },
  {
   "cell_type": "markdown",
   "metadata": {},
   "source": [
    "## Loading trips.csv\n",
    "\n",
    "Dataset at the center of the diagram linking the routes, the stop times, the shapes and the calendar."
   ]
  },
  {
   "cell_type": "code",
   "execution_count": 3,
   "metadata": {},
   "outputs": [
    {
     "data": {
      "text/html": [
       "<div>\n",
       "<style scoped>\n",
       "    .dataframe tbody tr th:only-of-type {\n",
       "        vertical-align: middle;\n",
       "    }\n",
       "\n",
       "    .dataframe tbody tr th {\n",
       "        vertical-align: top;\n",
       "    }\n",
       "\n",
       "    .dataframe thead th {\n",
       "        text-align: right;\n",
       "    }\n",
       "</style>\n",
       "<table border=\"1\" class=\"dataframe\">\n",
       "  <thead>\n",
       "    <tr style=\"text-align: right;\">\n",
       "      <th></th>\n",
       "      <th>route_id</th>\n",
       "      <th>service_id</th>\n",
       "      <th>trip_id</th>\n",
       "      <th>trip_headsign</th>\n",
       "      <th>direction_id</th>\n",
       "      <th>block_id</th>\n",
       "      <th>shape_id</th>\n",
       "    </tr>\n",
       "  </thead>\n",
       "  <tbody>\n",
       "    <tr>\n",
       "      <th>0</th>\n",
       "      <td>14</td>\n",
       "      <td>237259001</td>\n",
       "      <td>113275577237259001</td>\n",
       "      <td>JULES BORDET</td>\n",
       "      <td>0</td>\n",
       "      <td>8934823</td>\n",
       "      <td>069b0002</td>\n",
       "    </tr>\n",
       "    <tr>\n",
       "      <th>1</th>\n",
       "      <td>14</td>\n",
       "      <td>237259001</td>\n",
       "      <td>113275578237259001</td>\n",
       "      <td>JULES BORDET</td>\n",
       "      <td>0</td>\n",
       "      <td>8934827</td>\n",
       "      <td>069b0002</td>\n",
       "    </tr>\n",
       "    <tr>\n",
       "      <th>2</th>\n",
       "      <td>14</td>\n",
       "      <td>237259001</td>\n",
       "      <td>113275579237259001</td>\n",
       "      <td>JULES BORDET</td>\n",
       "      <td>0</td>\n",
       "      <td>8934823</td>\n",
       "      <td>069b0002</td>\n",
       "    </tr>\n",
       "    <tr>\n",
       "      <th>3</th>\n",
       "      <td>14</td>\n",
       "      <td>237259001</td>\n",
       "      <td>113275580237259001</td>\n",
       "      <td>BORDET STATION</td>\n",
       "      <td>0</td>\n",
       "      <td>8934822</td>\n",
       "      <td>069b0005</td>\n",
       "    </tr>\n",
       "    <tr>\n",
       "      <th>4</th>\n",
       "      <td>14</td>\n",
       "      <td>237259001</td>\n",
       "      <td>113275581237259001</td>\n",
       "      <td>JULES BORDET</td>\n",
       "      <td>0</td>\n",
       "      <td>8934826</td>\n",
       "      <td>069b0002</td>\n",
       "    </tr>\n",
       "  </tbody>\n",
       "</table>\n",
       "</div>"
      ],
      "text/plain": [
       "   route_id  service_id             trip_id   trip_headsign  direction_id  \\\n",
       "0        14   237259001  113275577237259001    JULES BORDET             0   \n",
       "1        14   237259001  113275578237259001    JULES BORDET             0   \n",
       "2        14   237259001  113275579237259001    JULES BORDET             0   \n",
       "3        14   237259001  113275580237259001  BORDET STATION             0   \n",
       "4        14   237259001  113275581237259001    JULES BORDET             0   \n",
       "\n",
       "   block_id  shape_id  \n",
       "0   8934823  069b0002  \n",
       "1   8934827  069b0002  \n",
       "2   8934823  069b0002  \n",
       "3   8934822  069b0005  \n",
       "4   8934826  069b0002  "
      ]
     },
     "execution_count": 3,
     "metadata": {},
     "output_type": "execute_result"
    }
   ],
   "source": [
    "trips_data = pd.read_csv('../../data/gtfs23Sept/trips.csv', sep=\",\")\n",
    "trips_data.head()"
   ]
  },
  {
   "cell_type": "markdown",
   "metadata": {},
   "source": [
    "## Loading routes.csv\n",
    "\n",
    "Dataset containing transportation classes (tram, bus, metro) in order to select only trams."
   ]
  },
  {
   "cell_type": "code",
   "execution_count": 4,
   "metadata": {},
   "outputs": [
    {
     "name": "stdout",
     "output_type": "stream",
     "text": [
      "[1 0 3]\n"
     ]
    },
    {
     "data": {
      "text/html": [
       "<div>\n",
       "<style scoped>\n",
       "    .dataframe tbody tr th:only-of-type {\n",
       "        vertical-align: middle;\n",
       "    }\n",
       "\n",
       "    .dataframe tbody tr th {\n",
       "        vertical-align: top;\n",
       "    }\n",
       "\n",
       "    .dataframe thead th {\n",
       "        text-align: right;\n",
       "    }\n",
       "</style>\n",
       "<table border=\"1\" class=\"dataframe\">\n",
       "  <thead>\n",
       "    <tr style=\"text-align: right;\">\n",
       "      <th></th>\n",
       "      <th>route_id</th>\n",
       "      <th>route_short_name</th>\n",
       "      <th>route_long_name</th>\n",
       "      <th>route_desc</th>\n",
       "      <th>route_type</th>\n",
       "      <th>route_url</th>\n",
       "      <th>route_color</th>\n",
       "      <th>route_text_color</th>\n",
       "    </tr>\n",
       "  </thead>\n",
       "  <tbody>\n",
       "    <tr>\n",
       "      <th>0</th>\n",
       "      <td>1</td>\n",
       "      <td>1</td>\n",
       "      <td>GARE DE L'OUEST - STOCKEL</td>\n",
       "      <td>NaN</td>\n",
       "      <td>1</td>\n",
       "      <td>NaN</td>\n",
       "      <td>B5378C</td>\n",
       "      <td>FFFFFF</td>\n",
       "    </tr>\n",
       "    <tr>\n",
       "      <th>1</th>\n",
       "      <td>4</td>\n",
       "      <td>2</td>\n",
       "      <td>SIMONIS - ELISABETH</td>\n",
       "      <td>NaN</td>\n",
       "      <td>1</td>\n",
       "      <td>NaN</td>\n",
       "      <td>ED6C23</td>\n",
       "      <td>FFFFFF</td>\n",
       "    </tr>\n",
       "    <tr>\n",
       "      <th>2</th>\n",
       "      <td>5</td>\n",
       "      <td>3</td>\n",
       "      <td>ESPLANADE - CHURCHILL</td>\n",
       "      <td>NaN</td>\n",
       "      <td>0</td>\n",
       "      <td>NaN</td>\n",
       "      <td>B4BD10</td>\n",
       "      <td>000000</td>\n",
       "    </tr>\n",
       "    <tr>\n",
       "      <th>3</th>\n",
       "      <td>8</td>\n",
       "      <td>4</td>\n",
       "      <td>GARE DU NORD - STALLE (P)</td>\n",
       "      <td>NaN</td>\n",
       "      <td>0</td>\n",
       "      <td>NaN</td>\n",
       "      <td>EA4F80</td>\n",
       "      <td>000000</td>\n",
       "    </tr>\n",
       "    <tr>\n",
       "      <th>4</th>\n",
       "      <td>2</td>\n",
       "      <td>5</td>\n",
       "      <td>ERASME - HERRMANN-DEBROUX</td>\n",
       "      <td>NaN</td>\n",
       "      <td>1</td>\n",
       "      <td>NaN</td>\n",
       "      <td>F6A90B</td>\n",
       "      <td>FFFFFF</td>\n",
       "    </tr>\n",
       "  </tbody>\n",
       "</table>\n",
       "</div>"
      ],
      "text/plain": [
       "   route_id route_short_name            route_long_name  route_desc  \\\n",
       "0         1                1  GARE DE L'OUEST - STOCKEL         NaN   \n",
       "1         4                2        SIMONIS - ELISABETH         NaN   \n",
       "2         5                3      ESPLANADE - CHURCHILL         NaN   \n",
       "3         8                4  GARE DU NORD - STALLE (P)         NaN   \n",
       "4         2                5  ERASME - HERRMANN-DEBROUX         NaN   \n",
       "\n",
       "   route_type  route_url route_color route_text_color  \n",
       "0           1        NaN      B5378C           FFFFFF  \n",
       "1           1        NaN      ED6C23           FFFFFF  \n",
       "2           0        NaN      B4BD10           000000  \n",
       "3           0        NaN      EA4F80           000000  \n",
       "4           1        NaN      F6A90B           FFFFFF  "
      ]
     },
     "execution_count": 4,
     "metadata": {},
     "output_type": "execute_result"
    }
   ],
   "source": [
    "routes_data = pd.read_csv('../../data/gtfs23Sept/routes.csv', sep=\",\")\n",
    "\n",
    "print(routes_data['route_type'].unique())\n",
    "# print(np.unique(routes_data['route_type']))\n",
    "\n",
    "routes_data.head()"
   ]
  },
  {
   "cell_type": "markdown",
   "metadata": {},
   "source": [
    "We can observe that there are only 3 types (which matches our 3 tram, bus and metros types). Using the column `route_long_name`, we were able to verify that:\n",
    "\n",
    "| `route_type` |  **Type** |\n",
    "|--------------|:---------:|\n",
    "| 0            |  **Tram** |\n",
    "| 1            | **Metro** |\n",
    "| 3            |  **Bus**  |"
   ]
  },
  {
   "cell_type": "markdown",
   "metadata": {},
   "source": [
    "## Loading stop_times.csv\n",
    "\n",
    "Dataset containing the exact times at which a vehicle arrives at/departs from a stop, for every vehicle for every line.\n",
    "\n",
    "Given that we are trying to plot, for **every stop** of **both directions** of **every line**, the **arrival time** of a given transportation vehicle. We take the arrival time (different from the departure time) because it's the time that matters to passengers."
   ]
  },
  {
   "cell_type": "code",
   "execution_count": 5,
   "metadata": {},
   "outputs": [
    {
     "name": "stderr",
     "output_type": "stream",
     "text": [
      "/tmp/ipykernel_5075/1040846831.py:1: DtypeWarning: Columns (3) have mixed types. Specify dtype option on import or set low_memory=False.\n",
      "  stop_times_data = pd.read_csv('../../data/gtfs23Sept/stop_times.csv', sep=\",\")\n"
     ]
    },
    {
     "data": {
      "text/html": [
       "<div>\n",
       "<style scoped>\n",
       "    .dataframe tbody tr th:only-of-type {\n",
       "        vertical-align: middle;\n",
       "    }\n",
       "\n",
       "    .dataframe tbody tr th {\n",
       "        vertical-align: top;\n",
       "    }\n",
       "\n",
       "    .dataframe thead th {\n",
       "        text-align: right;\n",
       "    }\n",
       "</style>\n",
       "<table border=\"1\" class=\"dataframe\">\n",
       "  <thead>\n",
       "    <tr style=\"text-align: right;\">\n",
       "      <th></th>\n",
       "      <th>trip_id</th>\n",
       "      <th>arrival_time</th>\n",
       "      <th>departure_time</th>\n",
       "      <th>stop_id</th>\n",
       "      <th>stop_sequence</th>\n",
       "      <th>pickup_type</th>\n",
       "      <th>drop_off_type</th>\n",
       "    </tr>\n",
       "  </thead>\n",
       "  <tbody>\n",
       "    <tr>\n",
       "      <th>0</th>\n",
       "      <td>113275577237259001</td>\n",
       "      <td>08:52:00</td>\n",
       "      <td>08:52:00</td>\n",
       "      <td>3107</td>\n",
       "      <td>1</td>\n",
       "      <td>0</td>\n",
       "      <td>0</td>\n",
       "    </tr>\n",
       "    <tr>\n",
       "      <th>1</th>\n",
       "      <td>113275577237259001</td>\n",
       "      <td>08:53:00</td>\n",
       "      <td>08:53:00</td>\n",
       "      <td>3177</td>\n",
       "      <td>2</td>\n",
       "      <td>0</td>\n",
       "      <td>0</td>\n",
       "    </tr>\n",
       "    <tr>\n",
       "      <th>2</th>\n",
       "      <td>113275577237259001</td>\n",
       "      <td>08:54:03</td>\n",
       "      <td>08:54:03</td>\n",
       "      <td>3171</td>\n",
       "      <td>3</td>\n",
       "      <td>0</td>\n",
       "      <td>0</td>\n",
       "    </tr>\n",
       "    <tr>\n",
       "      <th>3</th>\n",
       "      <td>113275577237259001</td>\n",
       "      <td>08:55:30</td>\n",
       "      <td>08:55:30</td>\n",
       "      <td>3172</td>\n",
       "      <td>4</td>\n",
       "      <td>0</td>\n",
       "      <td>0</td>\n",
       "    </tr>\n",
       "    <tr>\n",
       "      <th>4</th>\n",
       "      <td>113275577237259001</td>\n",
       "      <td>08:56:18</td>\n",
       "      <td>08:56:18</td>\n",
       "      <td>3173</td>\n",
       "      <td>5</td>\n",
       "      <td>0</td>\n",
       "      <td>0</td>\n",
       "    </tr>\n",
       "  </tbody>\n",
       "</table>\n",
       "</div>"
      ],
      "text/plain": [
       "              trip_id arrival_time departure_time stop_id  stop_sequence  \\\n",
       "0  113275577237259001     08:52:00       08:52:00    3107              1   \n",
       "1  113275577237259001     08:53:00       08:53:00    3177              2   \n",
       "2  113275577237259001     08:54:03       08:54:03    3171              3   \n",
       "3  113275577237259001     08:55:30       08:55:30    3172              4   \n",
       "4  113275577237259001     08:56:18       08:56:18    3173              5   \n",
       "\n",
       "   pickup_type  drop_off_type  \n",
       "0            0              0  \n",
       "1            0              0  \n",
       "2            0              0  \n",
       "3            0              0  \n",
       "4            0              0  "
      ]
     },
     "execution_count": 5,
     "metadata": {},
     "output_type": "execute_result"
    }
   ],
   "source": [
    "stop_times_data = pd.read_csv('../../data/gtfs23Sept/stop_times.csv', sep=\",\")\n",
    "stop_times_data.head()\n",
    "\n",
    "# print(stop_times_data['route_type'].unique())"
   ]
  },
  {
   "cell_type": "markdown",
   "metadata": {},
   "source": [
    "We will attempt to join the tables in order to filter out metros and buses, given that trams are the vehicle type that we are studying."
   ]
  },
  {
   "cell_type": "code",
   "execution_count": 6,
   "metadata": {},
   "outputs": [
    {
     "data": {
      "text/html": [
       "<div>\n",
       "<style scoped>\n",
       "    .dataframe tbody tr th:only-of-type {\n",
       "        vertical-align: middle;\n",
       "    }\n",
       "\n",
       "    .dataframe tbody tr th {\n",
       "        vertical-align: top;\n",
       "    }\n",
       "\n",
       "    .dataframe thead th {\n",
       "        text-align: right;\n",
       "    }\n",
       "</style>\n",
       "<table border=\"1\" class=\"dataframe\">\n",
       "  <thead>\n",
       "    <tr style=\"text-align: right;\">\n",
       "      <th></th>\n",
       "      <th>trip_id</th>\n",
       "      <th>service_id</th>\n",
       "      <th>route_type</th>\n",
       "      <th>route_short_name</th>\n",
       "      <th>trip_headsign</th>\n",
       "      <th>direction_id</th>\n",
       "    </tr>\n",
       "  </thead>\n",
       "  <tbody>\n",
       "    <tr>\n",
       "      <th>0</th>\n",
       "      <td>113275577237259001</td>\n",
       "      <td>237259001</td>\n",
       "      <td>3</td>\n",
       "      <td>69</td>\n",
       "      <td>JULES BORDET</td>\n",
       "      <td>0</td>\n",
       "    </tr>\n",
       "    <tr>\n",
       "      <th>1</th>\n",
       "      <td>113275578237259001</td>\n",
       "      <td>237259001</td>\n",
       "      <td>3</td>\n",
       "      <td>69</td>\n",
       "      <td>JULES BORDET</td>\n",
       "      <td>0</td>\n",
       "    </tr>\n",
       "    <tr>\n",
       "      <th>2</th>\n",
       "      <td>113275579237259001</td>\n",
       "      <td>237259001</td>\n",
       "      <td>3</td>\n",
       "      <td>69</td>\n",
       "      <td>JULES BORDET</td>\n",
       "      <td>0</td>\n",
       "    </tr>\n",
       "    <tr>\n",
       "      <th>3</th>\n",
       "      <td>113275580237259001</td>\n",
       "      <td>237259001</td>\n",
       "      <td>3</td>\n",
       "      <td>69</td>\n",
       "      <td>BORDET STATION</td>\n",
       "      <td>0</td>\n",
       "    </tr>\n",
       "    <tr>\n",
       "      <th>4</th>\n",
       "      <td>113275581237259001</td>\n",
       "      <td>237259001</td>\n",
       "      <td>3</td>\n",
       "      <td>69</td>\n",
       "      <td>JULES BORDET</td>\n",
       "      <td>0</td>\n",
       "    </tr>\n",
       "  </tbody>\n",
       "</table>\n",
       "</div>"
      ],
      "text/plain": [
       "              trip_id  service_id  route_type route_short_name  \\\n",
       "0  113275577237259001   237259001           3               69   \n",
       "1  113275578237259001   237259001           3               69   \n",
       "2  113275579237259001   237259001           3               69   \n",
       "3  113275580237259001   237259001           3               69   \n",
       "4  113275581237259001   237259001           3               69   \n",
       "\n",
       "    trip_headsign  direction_id  \n",
       "0    JULES BORDET             0  \n",
       "1    JULES BORDET             0  \n",
       "2    JULES BORDET             0  \n",
       "3  BORDET STATION             0  \n",
       "4    JULES BORDET             0  "
      ]
     },
     "execution_count": 6,
     "metadata": {},
     "output_type": "execute_result"
    }
   ],
   "source": [
    "trips_routes_merge = pd.merge(trips_data, routes_data, on='route_id')\n",
    "trips_routes_merge = trips_routes_merge[['trip_id', 'service_id', 'route_type', 'route_short_name', 'trip_headsign', 'direction_id']]\n",
    "trips_routes_merge = trips_routes_merge.loc[trips_routes_merge['route_type'] == 3]\n",
    "trips_routes_merge.head()\n",
    "# trips_routes_merge.tail()"
   ]
  },
  {
   "cell_type": "markdown",
   "metadata": {},
   "source": [
    "We have successfully linked (tram) routes to all other possible datasets.\n",
    "\n",
    "### TODO: verify hypothesis that monday = weekday (that 1 1 1 1 1 = 1)"
   ]
  },
  {
   "cell_type": "code",
   "execution_count": 7,
   "metadata": {},
   "outputs": [
    {
     "data": {
      "text/html": [
       "<div>\n",
       "<style scoped>\n",
       "    .dataframe tbody tr th:only-of-type {\n",
       "        vertical-align: middle;\n",
       "    }\n",
       "\n",
       "    .dataframe tbody tr th {\n",
       "        vertical-align: top;\n",
       "    }\n",
       "\n",
       "    .dataframe thead th {\n",
       "        text-align: right;\n",
       "    }\n",
       "</style>\n",
       "<table border=\"1\" class=\"dataframe\">\n",
       "  <thead>\n",
       "    <tr style=\"text-align: right;\">\n",
       "      <th></th>\n",
       "      <th>trip_id</th>\n",
       "      <th>route_type</th>\n",
       "      <th>route_short_name</th>\n",
       "      <th>trip_headsign</th>\n",
       "      <th>direction_id</th>\n",
       "      <th>weekday</th>\n",
       "      <th>saturday</th>\n",
       "      <th>sunday</th>\n",
       "      <th>start_date</th>\n",
       "    </tr>\n",
       "  </thead>\n",
       "  <tbody>\n",
       "    <tr>\n",
       "      <th>40580</th>\n",
       "      <td>113713837239004002</td>\n",
       "      <td>3</td>\n",
       "      <td>T82</td>\n",
       "      <td>DROGENBOS CHATEAU</td>\n",
       "      <td>0</td>\n",
       "      <td>1</td>\n",
       "      <td>0</td>\n",
       "      <td>0</td>\n",
       "      <td>20211011</td>\n",
       "    </tr>\n",
       "    <tr>\n",
       "      <th>40581</th>\n",
       "      <td>113713838239004002</td>\n",
       "      <td>3</td>\n",
       "      <td>T82</td>\n",
       "      <td>DROGENBOS CHATEAU</td>\n",
       "      <td>0</td>\n",
       "      <td>1</td>\n",
       "      <td>0</td>\n",
       "      <td>0</td>\n",
       "      <td>20211011</td>\n",
       "    </tr>\n",
       "    <tr>\n",
       "      <th>40582</th>\n",
       "      <td>113713839239004002</td>\n",
       "      <td>3</td>\n",
       "      <td>T82</td>\n",
       "      <td>DROGENBOS CHATEAU</td>\n",
       "      <td>0</td>\n",
       "      <td>1</td>\n",
       "      <td>0</td>\n",
       "      <td>0</td>\n",
       "      <td>20211011</td>\n",
       "    </tr>\n",
       "    <tr>\n",
       "      <th>40583</th>\n",
       "      <td>113713840239004002</td>\n",
       "      <td>3</td>\n",
       "      <td>T82</td>\n",
       "      <td>DROGENBOS CHATEAU</td>\n",
       "      <td>0</td>\n",
       "      <td>1</td>\n",
       "      <td>0</td>\n",
       "      <td>0</td>\n",
       "      <td>20211011</td>\n",
       "    </tr>\n",
       "    <tr>\n",
       "      <th>40584</th>\n",
       "      <td>113713842239004002</td>\n",
       "      <td>3</td>\n",
       "      <td>T82</td>\n",
       "      <td>DROGENBOS CHATEAU</td>\n",
       "      <td>0</td>\n",
       "      <td>1</td>\n",
       "      <td>0</td>\n",
       "      <td>0</td>\n",
       "      <td>20211011</td>\n",
       "    </tr>\n",
       "  </tbody>\n",
       "</table>\n",
       "</div>"
      ],
      "text/plain": [
       "                  trip_id  route_type route_short_name      trip_headsign  \\\n",
       "40580  113713837239004002           3              T82  DROGENBOS CHATEAU   \n",
       "40581  113713838239004002           3              T82  DROGENBOS CHATEAU   \n",
       "40582  113713839239004002           3              T82  DROGENBOS CHATEAU   \n",
       "40583  113713840239004002           3              T82  DROGENBOS CHATEAU   \n",
       "40584  113713842239004002           3              T82  DROGENBOS CHATEAU   \n",
       "\n",
       "       direction_id  weekday  saturday  sunday  start_date  \n",
       "40580             0        1         0       0    20211011  \n",
       "40581             0        1         0       0    20211011  \n",
       "40582             0        1         0       0    20211011  \n",
       "40583             0        1         0       0    20211011  \n",
       "40584             0        1         0       0    20211011  "
      ]
     },
     "execution_count": 7,
     "metadata": {},
     "output_type": "execute_result"
    }
   ],
   "source": [
    "calendar_data = pd.read_csv('../../data/gtfs23Sept/calendar.csv', sep=\",\")\n",
    "trips_routes_calendar = pd.merge(trips_routes_merge, calendar_data, on='service_id')\n",
    "trips_routes_calendar.drop(['end_date', 'tuesday', 'wednesday', 'thursday', 'friday', 'service_id'], inplace=True, axis=1)\n",
    "trips_routes_calendar.rename(columns={'monday': 'weekday'}, inplace=True)  #TODO hypothesis: monday = weekday\n",
    "trips_routes_calendar.tail()"
   ]
  },
  {
   "cell_type": "markdown",
   "metadata": {},
   "source": [
    "Now that we have linked calendar and routes, we will now further link it to stop times."
   ]
  },
  {
   "cell_type": "code",
   "execution_count": 8,
   "metadata": {},
   "outputs": [
    {
     "name": "stdout",
     "output_type": "stream",
     "text": [
      "40585\n",
      "892995\n"
     ]
    },
    {
     "data": {
      "text/html": [
       "<div>\n",
       "<style scoped>\n",
       "    .dataframe tbody tr th:only-of-type {\n",
       "        vertical-align: middle;\n",
       "    }\n",
       "\n",
       "    .dataframe tbody tr th {\n",
       "        vertical-align: top;\n",
       "    }\n",
       "\n",
       "    .dataframe thead th {\n",
       "        text-align: right;\n",
       "    }\n",
       "</style>\n",
       "<table border=\"1\" class=\"dataframe\">\n",
       "  <thead>\n",
       "    <tr style=\"text-align: right;\">\n",
       "      <th></th>\n",
       "      <th>arrival_time</th>\n",
       "      <th>stop_id</th>\n",
       "      <th>route_type</th>\n",
       "      <th>route_short_name</th>\n",
       "      <th>trip_headsign</th>\n",
       "      <th>direction_id</th>\n",
       "      <th>weekday</th>\n",
       "      <th>saturday</th>\n",
       "      <th>sunday</th>\n",
       "      <th>start_date</th>\n",
       "    </tr>\n",
       "  </thead>\n",
       "  <tbody>\n",
       "    <tr>\n",
       "      <th>74398</th>\n",
       "      <td>06:25:00</td>\n",
       "      <td>1830</td>\n",
       "      <td>3</td>\n",
       "      <td>28</td>\n",
       "      <td>BRABANCONNE</td>\n",
       "      <td>1</td>\n",
       "      <td>1</td>\n",
       "      <td>0</td>\n",
       "      <td>0</td>\n",
       "      <td>20210920</td>\n",
       "    </tr>\n",
       "    <tr>\n",
       "      <th>74399</th>\n",
       "      <td>06:25:16</td>\n",
       "      <td>1832</td>\n",
       "      <td>3</td>\n",
       "      <td>28</td>\n",
       "      <td>BRABANCONNE</td>\n",
       "      <td>1</td>\n",
       "      <td>1</td>\n",
       "      <td>0</td>\n",
       "      <td>0</td>\n",
       "      <td>20210920</td>\n",
       "    </tr>\n",
       "    <tr>\n",
       "      <th>74400</th>\n",
       "      <td>06:26:00</td>\n",
       "      <td>1833B</td>\n",
       "      <td>3</td>\n",
       "      <td>28</td>\n",
       "      <td>BRABANCONNE</td>\n",
       "      <td>1</td>\n",
       "      <td>1</td>\n",
       "      <td>0</td>\n",
       "      <td>0</td>\n",
       "      <td>20210920</td>\n",
       "    </tr>\n",
       "    <tr>\n",
       "      <th>74401</th>\n",
       "      <td>06:27:11</td>\n",
       "      <td>1451</td>\n",
       "      <td>3</td>\n",
       "      <td>28</td>\n",
       "      <td>BRABANCONNE</td>\n",
       "      <td>1</td>\n",
       "      <td>1</td>\n",
       "      <td>0</td>\n",
       "      <td>0</td>\n",
       "      <td>20210920</td>\n",
       "    </tr>\n",
       "    <tr>\n",
       "      <th>74402</th>\n",
       "      <td>06:28:09</td>\n",
       "      <td>1450</td>\n",
       "      <td>3</td>\n",
       "      <td>28</td>\n",
       "      <td>BRABANCONNE</td>\n",
       "      <td>1</td>\n",
       "      <td>1</td>\n",
       "      <td>0</td>\n",
       "      <td>0</td>\n",
       "      <td>20210920</td>\n",
       "    </tr>\n",
       "  </tbody>\n",
       "</table>\n",
       "</div>"
      ],
      "text/plain": [
       "      arrival_time stop_id  route_type route_short_name trip_headsign  \\\n",
       "74398     06:25:00    1830           3               28   BRABANCONNE   \n",
       "74399     06:25:16    1832           3               28   BRABANCONNE   \n",
       "74400     06:26:00   1833B           3               28   BRABANCONNE   \n",
       "74401     06:27:11    1451           3               28   BRABANCONNE   \n",
       "74402     06:28:09    1450           3               28   BRABANCONNE   \n",
       "\n",
       "       direction_id  weekday  saturday  sunday  start_date  \n",
       "74398             1        1         0       0    20210920  \n",
       "74399             1        1         0       0    20210920  \n",
       "74400             1        1         0       0    20210920  \n",
       "74401             1        1         0       0    20210920  \n",
       "74402             1        1         0       0    20210920  "
      ]
     },
     "execution_count": 8,
     "metadata": {},
     "output_type": "execute_result"
    }
   ],
   "source": [
    "print(len(trips_routes_calendar))\n",
    "trcst = pd.merge(stop_times_data, trips_routes_calendar, on='trip_id',how=\"inner\")\n",
    "print(len(trcst))\n",
    "trcst.drop(['pickup_type', 'drop_off_type', 'stop_sequence', 'departure_time', 'trip_id'], inplace=True, axis=1)\n",
    "trcst.head(30)\n",
    "# trcst.tail()\n",
    "\n",
    "trcsttemp = trcst.loc[(trcst['route_short_name'] == '28')] # \n",
    "trcsttemp.head()\n"
   ]
  },
  {
   "cell_type": "markdown",
   "metadata": {},
   "source": [
    "Say we take Tram 3 direction CHURCHILL at stop 5701."
   ]
  },
  {
   "cell_type": "code",
   "execution_count": 9,
   "metadata": {},
   "outputs": [],
   "source": [
    "from math import floor, ceil\n",
    "from statistics import mean\n",
    "import matplotlib.pyplot as plt\n",
    "\n",
    "def get_times(direction:int, weekday:int, route_short_name:str, stop_id:str, start_date:int, dataframe:pd.DataFrame):\n",
    "    data = dataframe.loc[(trcst['direction_id'] == direction) & (trcst['weekday'] == weekday) & (trcst['route_short_name'] == route_short_name) & (trcst['stop_id'] == stop_id)  & (trcst['start_date'] == start_date)]\n",
    "    return data['arrival_time'].tolist()\n",
    "\n",
    "def time_to_sec(time:str) -> int:\n",
    "    time = time.split(\":\")\n",
    "    hours, minutes, seconds = int(time[0]), int(time[1]), int(time[2])\n",
    "    return hours*60*60+minutes*60+seconds\n",
    "\n",
    "def map_to_min(arrival_times:list):\n",
    "    arrival_times_minutes = map(time_to_sec, arrival_times)\n",
    "    arrival_times_minutes = list(arrival_times_minutes)\n",
    "    return sorted(arrival_times_minutes)\n",
    "\n",
    "def get_xy(arrival_times_minutes):\n",
    "    x, y = [], []\n",
    "    for i in range(len(arrival_times_minutes)-1):\n",
    "        y.append(round((arrival_times_minutes[i+1]-arrival_times_minutes[i])/60, 2))\n",
    "        x.append(round(arrival_times_minutes[i]/3600, 2))\n",
    "    return x, y\n",
    "\n",
    "def gradient(y):\n",
    "    output = []\n",
    "    for i in range(len(y)-1):\n",
    "        value = y[i+1]-y[i]\n",
    "        if value:\n",
    "            output.append(1)\n",
    "        else:\n",
    "            output.append(0)\n",
    "    output.append(1)\n",
    "    return output\n",
    "\n",
    "def get_interval(x, y):\n",
    "    index = 0\n",
    "    lines = [x[0]]\n",
    "    y = gradient(y)\n",
    "    i = 0\n",
    "\n",
    "    while i < len(y)-5:\n",
    "\n",
    "        mode = \"zero\" if sum(y[i:i+7]) < 4 else \"diff\"\n",
    "        temp = 0\n",
    "        start = index\n",
    "\n",
    "        if mode == \"diff\":\n",
    "            count_zeros = 0\n",
    "            while (count_zeros < 4 or start + 4 > index) and i < len(y): # creating the diff zone\n",
    "                if y[i]:\n",
    "                    if temp >= 1:\n",
    "                        count_zeros = 0\n",
    "                        temp = 0\n",
    "                    elif count_zeros:\n",
    "                        temp+=1\n",
    "                elif index != i:\n",
    "                    if not count_zeros:\n",
    "                        index = i\n",
    "                    count_zeros += 1\n",
    "                i+=1\n",
    "\n",
    "            lines.append(x[index])\n",
    "            count_zeros = 0\n",
    "            if i < len(y):\n",
    "                i = index + 1\n",
    "\n",
    "        elif mode == \"zero\":\n",
    "            count_diff = 0\n",
    "            while (count_diff < 1 or start + 4 > index) and i < len(y):\n",
    "                if y[i]: \n",
    "                    if not count_diff:\n",
    "                        index = i\n",
    "                    count_diff += 1\n",
    "                elif temp > 2:\n",
    "                    count_diff = 0\n",
    "                    temp = 0\n",
    "                elif count_diff:\n",
    "                    temp +=1\n",
    "                i+=1\n",
    "\n",
    "            lines.append(x[index])\n",
    "            count_diff = 0\n",
    "            if i < len(y):\n",
    "                i = index + 1\n",
    "\n",
    "    if x[-1] not in lines:\n",
    "        lines.append(x[-1])\n",
    "    return lines\n",
    "\n",
    "def seb_algo(x, y):\n",
    "    lines = get_interval(x, y)\n",
    "    return lines\n",
    "\n",
    "def diego_lines(x, y):\n",
    "    s_y = smoothen(y, 2, 2)\n",
    "    d_y = [0] + [abs(s_y[j+1]-s_y[j]) for j in range(len(s_y)-1)]\n",
    "    line_list = [x[0]]\n",
    "    for j in range(1, len(x)):\n",
    "        if d_y[j] >= 2:\n",
    "            line_list.append(x[j])\n",
    "    line_list.append(x[-1])\n",
    "    return line_list\n",
    "\n",
    "def smoothen(input_list, step, depth):\n",
    "    if depth == 0:\n",
    "        return input_list\n",
    "    output_list = []\n",
    "    for idx in range(len(input_list)):\n",
    "        min_idx = max(0, idx-step)\n",
    "        max_idx = min(len(input_list), idx+step)\n",
    "        subset = input_list[min_idx:max_idx+1]\n",
    "        if subset.count(input_list[idx]) >= 2:\n",
    "            output_list.append(input_list[idx])\n",
    "        elif max(abs(input_list[idx]-max(subset)), abs(input_list[idx]-max(subset))) <= 1:\n",
    "            idx_number = max_idx - min_idx\n",
    "            idx_mean = sum([input_list[idx_2] for idx_2 in range(min_idx, max_idx)])\n",
    "            idx_mean /= idx_number\n",
    "            output_list.append(idx_mean)\n",
    "        else:\n",
    "            output_list.append(input_list[idx])\n",
    "    return smoothen(output_list, step, depth-1)\n",
    "\n",
    "def smoothen_weight(input_list, step, depth):\n",
    "    if depth == 0:\n",
    "        return input_list\n",
    "    output_list = []\n",
    "    for idx in range(len(input_list)):\n",
    "        min_idx = max(0, idx-step)\n",
    "        max_idx = min(len(input_list), idx+step)\n",
    "        subset = input_list[min_idx:max_idx+1]\n",
    "        idx_mean = sum(subset)/len(subset)\n",
    "        if idx_mean == input_list[idx]:\n",
    "            output_list.append(input_list[idx])\n",
    "        else:\n",
    "            mean_differences = [abs(idx_mean-idx_val) for idx_val in subset]\n",
    "            # print(subset)\n",
    "            max_mean_difference = max(mean_differences)\n",
    "            closeness = [abs(m_diff-max_mean_difference) for m_diff in mean_differences]\n",
    "            total_closeness = sum(closeness)\n",
    "            weights = [c/total_closeness for c in closeness]\n",
    "            elem = sum([subset[j]*weights[j] for j in range(len(subset))])\n",
    "            output_list.append(elem)\n",
    "    return smoothen_weight(output_list, step, depth-1)\n",
    "\n",
    "def run_algos(dataframe:pd.DataFrame, examples:list):\n",
    "    for example in examples:\n",
    "        stop_id, route_short_name, start_date, direction, weekday = example\n",
    "        times = get_times(direction, weekday, route_short_name, stop_id, start_date, dataframe)\n",
    "        arrival_times = map_to_min(times)\n",
    "        x, y = get_xy(arrival_times)\n",
    "        lines_seb = seb_algo(x, y)\n",
    "        lines_diego = diego_lines(x, y)\n",
    "        # plt.subplot(1,2)\n",
    "        plt.figure(figsize=[30,10])\n",
    "        plot(x, y, lines_seb, direction, weekday, route_short_name, stop_id, start_date, \"ALGO1\", 1)\n",
    "        plot(x, y, lines_diego, direction, weekday, route_short_name, stop_id, start_date, \"ALGO2\", 2)\n",
    "        plt.show()\n",
    "        \n",
    "\n",
    "def plot(x, y, lines, direction, weekday, route_short_name, stop_id, start_date, name, order):\n",
    "    title = f\"{name} : Scheduled headways on line {route_short_name} to {direction} at the stop {stop_id} on {weekday} on the {start_date}\"\n",
    "    # plt.figure(figsize=[15,10])\n",
    "    plt.subplot(1, 2, order)\n",
    "    plt.bar(x, y, width=0.05)\n",
    "    # plt.plot(x, y)\n",
    "    for line in lines:\n",
    "        plt.axvline(x = line, color = 'r', label = 'axvline - full height')\n",
    "    plt.title(title)\n"
   ]
  },
  {
   "cell_type": "code",
   "execution_count": 13,
   "metadata": {},
   "outputs": [
    {
     "data": {
      "image/png": "[encoded data removed]",
      "text/plain": [
       "<Figure size 2160x720 with 2 Axes>"
      ]
     },
     "metadata": {
      "needs_background": "light"
     },
     "output_type": "display_data"
    },
    {
     "data": {
      "image/png": "[encoded data removed]",
      "text/plain": [
       "<Figure size 2160x720 with 2 Axes>"
      ]
     },
     "metadata": {
      "needs_background": "light"
     },
     "output_type": "display_data"
    }
   ],
   "source": [
    "examples = [['0539', '25', 20210920, 1, 1], ['5705', \"3\", 20210920, 0, 1], ['5315', '92', 20210920, 0, 1], ['2397F', '8', 20210920, 0, 1], ['5521', '39', 20210920, 1, 1]] #tram\n",
    "examples2 = [['8272', '1', 20211015, 0, 1] , ['8421', '2', 20211015, 1, 1], ['8682', '5', 20211015, 0, 1], ['8773', '6', 20211015, 1, 1]] #metro\n",
    "examples3 = [['3558', '71', 20210920, 1, 1], ['1450', '28', 20210920, 1, 1]] #bus\n",
    "run_algos(trcst, examples3)"
   ]
  },
  {
   "cell_type": "code",
   "execution_count": 219,
   "metadata": {},
   "outputs": [
    {
     "name": "stdout",
     "output_type": "stream",
     "text": [
      "120\n",
      "120\n",
      "['05:51:09', '06:11:09', '06:28:09', '06:41:09', '06:51:09', '06:59:09', '07:08:09', '07:12:09', '07:17:09', '07:22:09', '07:27:09', '07:32:09', '07:37:09', '07:42:09', '07:47:09', '07:52:09', '07:56:09', '08:01:52', '08:06:52', '08:11:52', '08:17:52', '08:22:52', '08:27:52', '08:33:52', '08:39:52', '08:44:52', '08:48:52', '08:55:52', '09:01:52', '09:06:52', '09:11:52', '09:16:52', '09:27:52', '09:39:09', '09:51:09', '10:03:09', '10:15:09', '10:27:09', '10:39:09', '10:51:09', '11:03:09', '11:15:09', '11:27:09', '11:39:09', '11:51:09', '12:01:52', '12:12:52', '12:24:52', '12:36:52', '12:48:52', '13:01:52', '13:13:52', '13:25:52', '13:37:52', '13:49:52', '14:00:52', '14:11:52', '14:23:09', '14:34:09', '14:45:09', '14:55:09', '15:04:52', '15:09:52', '15:15:52', '15:20:52', '15:26:52', '15:31:52', '15:36:52', '15:42:52', '15:47:52', '15:52:52', '15:57:52', '16:02:52', '16:07:52', '16:12:52', '16:17:52', '16:22:52', '16:27:52', '16:32:52', '16:37:52', '16:42:52', '16:47:52', '16:52:52', '16:57:52', '17:02:52', '17:07:52', '17:12:52', '17:17:52', '17:22:52', '17:27:52', '17:32:52', '17:37:52', '17:42:52', '17:48:52', '17:54:52', '18:00:52', '18:13:52', '18:25:52', '18:37:52', '18:50:52', '19:04:09', '19:17:09', '19:31:09', '19:45:09', '19:59:09', '20:16:09', '20:36:09', '20:59:09', '21:19:09', '21:30:09', '21:39:09', '21:59:09', '22:19:09', '22:39:09', '22:59:09', '23:19:09', '23:39:09', '23:50:09', '24:10:09', '24:30:09']\n"
     ]
    }
   ],
   "source": [
    "stop_id = '1450'\n",
    "line = '28'\n",
    "date = 20210920\n",
    "direction = 1\n",
    "week = 1\n",
    "examples = [['0539', '25', 20210920, 1, 1], ['5705', \"3\", 20210920, 0, 1], ['5315', '92', 20210920, 0, 1], ['2397F', '8', 20210920, 0, 1], ['5521', '39', 20210920, 1, 1]]\n",
    "trcst2 = trcst.loc[(trcst['direction_id'] == direction) & (trcst['weekday'] == week) & (trcst['route_short_name'] == line) & (trcst['stop_id'] == stop_id)  & (trcst['start_date'] == date)]\n",
    "trcst2.head()\n",
    "\n",
    "trip_headsign = trcst['trip_headsign'].iat[0]\n",
    "trcst2 = trcst2['arrival_time']\n",
    "print(len(trcst2))\n",
    "print(len(np.unique(trcst2)))\n",
    "# trcst2.head()\n",
    "arrival_times = trcst2.tolist()\n",
    "print(sorted(arrival_times))\n",
    "\n"
   ]
  },
  {
   "cell_type": "code",
   "execution_count": 130,
   "metadata": {},
   "outputs": [
    {
     "name": "stdout",
     "output_type": "stream",
     "text": [
      "[20324, 21284, 22244, 22784, 23444, 24104, 24644, 25124, 25484, 25844, 26084, 26384, 26744, 27104, 27464, 27824, 28184, 28544, 28904, 29264, 29624, 29984, 30344, 30704, 31064, 31424, 31784, 32204, 32564, 33044, 33464, 33704, 34244, 34424, 34844, 35444, 36044, 36644, 37244, 37844, 38444, 39044, 39704, 40244, 40724, 41204, 41684, 42104, 42584, 43004, 43484, 43904, 44384, 44864, 45344, 45824, 46244, 46724, 47204, 47684, 48164, 48524, 48884, 49304, 49724, 50204, 50624, 50984, 51464, 51944, 52364, 52904, 53264, 53624, 53984, 54344, 54704, 55064, 55424, 55724, 56084, 56444, 56804, 57164, 57524, 57884, 58244, 58664, 59024, 59384, 59744, 60104, 60464, 60824, 61184, 61544, 61904, 62324, 62684, 63044, 63404, 63764, 64124, 64484, 64844, 64964, 65384, 65804, 65984, 66464, 66944, 67424, 67904, 68384, 68864, 69344, 69884, 70484, 70664, 71084, 71684, 72044, 72584, 72824, 73784, 73964, 74984, 75224, 76304, 77504, 78704, 79904, 81104, 82364, 83564, 84764, 85964, 86744, 87704, 88904, 90344]\n"
     ]
    }
   ],
   "source": [
    "arrival_times_minutes = map(time_to_sec, arrival_times)\n",
    "arrival_times_minutes = list(arrival_times_minutes)\n",
    "arrival_times_minutes = sorted(arrival_times_minutes)\n",
    "print(arrival_times_minutes)"
   ]
  },
  {
   "cell_type": "code",
   "execution_count": 131,
   "metadata": {},
   "outputs": [
    {
     "name": "stdout",
     "output_type": "stream",
     "text": [
      "960\n",
      "960\n"
     ]
    }
   ],
   "source": [
    "x, y = [], []\n",
    "print(arrival_times_minutes[0+1]-arrival_times_minutes[0])\n",
    "print(arrival_times_minutes[1+1]-arrival_times_minutes[1])\n",
    "for i in range(len(arrival_times_minutes)-1):\n",
    "    #if round((arrival_times_minutes[i+1]-arrival_times_minutes[i])/60, 2):\n",
    "    y.append(round((arrival_times_minutes[i+1]-arrival_times_minutes[i])/60, 2))\n",
    "    x.append(round(arrival_times_minutes[i]/3600, 2))"
   ]
  },
  {
   "cell_type": "code",
   "execution_count": 134,
   "metadata": {},
   "outputs": [
    {
     "data": {
      "image/png": "[encoded data removed]",
      "text/plain": [
       "<Figure size 1080x720 with 1 Axes>"
      ]
     },
     "metadata": {
      "needs_background": "light"
     },
     "output_type": "display_data"
    }
   ],
   "source": [
    "import matplotlib.pyplot as plt\n",
    "title = f\"Scheduled headways on line {line} to {trip_headsign} at the stop {stop_id} on weekday\"\n",
    "plt.figure(figsize=[15,10])\n",
    "plt.bar(x, y, width=0.05)\n",
    "plt.title(title)\n",
    "plt.show()"
   ]
  },
  {
   "cell_type": "code",
   "execution_count": 135,
   "metadata": {},
   "outputs": [
    {
     "name": "stdout",
     "output_type": "stream",
     "text": [
      "[0, 1, 1, 0, 1, 1, 1, 0, 1, 1, 1, 0, 0, 0, 0, 0, 0, 0, 0, 0, 0, 0, 0, 0, 0, 1, 1, 1, 1, 1, 1, 1, 1, 1, 0, 0, 0, 0, 0, 0, 1, 1, 1, 0, 0, 1, 1, 1, 1, 1, 1, 0, 0, 0, 1, 1, 0, 0, 0, 1, 0, 1, 0, 1, 1, 1, 1, 0, 1, 1, 1, 0, 0, 0, 0, 0, 0, 1, 1, 0, 0, 0, 0, 0, 0, 1, 1, 0, 0, 0, 0, 0, 0, 0, 0, 1, 1, 0, 0, 0, 0, 0, 0, 1, 1, 0, 1, 1, 0, 0, 0, 0, 0, 0, 1, 1, 1, 1, 1, 1, 1, 1, 1, 1, 1, 1, 1, 1, 0, 0, 0, 1, 1, 0, 0, 1, 1, 1, 1, 1]\n"
     ]
    },
    {
     "data": {
      "image/png": "[encoded data removed]",
      "text/plain": [
       "<Figure size 1080x720 with 1 Axes>"
      ]
     },
     "metadata": {
      "needs_background": "light"
     },
     "output_type": "display_data"
    }
   ],
   "source": [
    "from math import floor, ceil\n",
    "from statistics import mean\n",
    "\n",
    "def gradient(y):\n",
    "    output = []\n",
    "    for i in range(len(y)-1):\n",
    "        value = y[i+1]-y[i]\n",
    "        if value:\n",
    "            output.append(1)\n",
    "        else:\n",
    "            output.append(0)\n",
    "    output.append(1)\n",
    "    return output\n",
    "\n",
    "def mean_filter(y, k=3):\n",
    "    output = [y[:floor(k/2)]] \n",
    "    output.extend(mean(y[i-floor(k/2):i+floor(k/2)]) for i in range(floor(k/2), len(y)-floor(k/2)))\n",
    "    output.append(y[len(y)-floor(k/2):])\n",
    "    return output\n",
    "\n",
    "def get_interval(x, y):\n",
    "    count_zeros = 0\n",
    "    count_diff = 0\n",
    "    index = 0\n",
    "    lines = [x[0]]\n",
    "    y = gradient(y)\n",
    "    i = 0\n",
    "\n",
    "    while i < len(y)-5:\n",
    "\n",
    "        mode = \"zero\" if sum(y[i:i+7]) < 4 else \"diff\"\n",
    "        temp = 0\n",
    "        start = index\n",
    "\n",
    "        if mode == \"diff\":\n",
    "            while (count_zeros < 4 or start + 4 > index) and i < len(y): # creating the diff zone\n",
    "                if y[i]:\n",
    "                    if temp >= 1:\n",
    "                        count_zeros = 0\n",
    "                        temp = 0\n",
    "                    elif count_zeros:\n",
    "                        temp+=1\n",
    "                elif index != i:\n",
    "                    if not count_zeros:\n",
    "                        index = i\n",
    "                    count_zeros += 1\n",
    "                i+=1\n",
    "\n",
    "            lines.append(x[index])\n",
    "            count_zeros = 0\n",
    "            if i < len(y):\n",
    "                i = index + 1\n",
    "\n",
    "        elif mode == \"zero\":\n",
    "            while (count_diff < 1 or start + 4 > index) and i < len(y):\n",
    "                if y[i]: \n",
    "                    if not count_diff:\n",
    "                        index = i\n",
    "                    count_diff += 1\n",
    "                elif temp > 2:\n",
    "                    count_diff = 0\n",
    "                    temp = 0\n",
    "                elif count_diff:\n",
    "                    temp +=1\n",
    "                i+=1\n",
    "\n",
    "            lines.append(x[index])\n",
    "            count_diff = 0\n",
    "            if i < len(y):\n",
    "                i = index + 1\n",
    "\n",
    "    if x[-1] not in lines:\n",
    "        lines.append(x[-1])\n",
    "    return lines\n",
    "\n",
    "print(gradient(y))\n",
    "title = f\"Scheduled headways on line {line} to {trip_headsign} at the stop {stop_id} on weekday\"\n",
    "plt.figure(figsize=[15,10])\n",
    "plt.bar(x, gradient(y), width=0.05)\n",
    "plt.title(title)\n",
    "plt.show()\n",
    "\n",
    "\n",
    "\n"
   ]
  },
  {
   "cell_type": "code",
   "execution_count": 136,
   "metadata": {},
   "outputs": [
    {
     "data": {
      "image/png": "[encoded data removed]",
      "text/plain": [
       "<Figure size 1080x720 with 1 Axes>"
      ]
     },
     "metadata": {
      "needs_background": "light"
     },
     "output_type": "display_data"
    }
   ],
   "source": [
    "\n",
    "\n",
    "lines = get_interval(x, y)\n",
    "\n",
    "title = f\"Scheduled headways on line {line} to {trip_headsign} at the stop {stop_id} on weekday\"\n",
    "plt.figure(figsize=[15,10])\n",
    "plt.bar(x, y, width=0.05)\n",
    "# plt.plot(x, y)\n",
    "for line in lines:\n",
    "    plt.axvline(x = line, color = 'r', label = 'axvline - full height')\n",
    "plt.title(title)\n",
    "plt.show()\n",
    "temp = gradient(y)\n",
    "# print(lines)\n",
    "# for i in range(len(y)):\n",
    "#     print(i, temp[i], y[i], x[i])\n",
    "\n",
    "\n",
    "        "
   ]
  },
  {
   "cell_type": "code",
   "execution_count": 139,
   "metadata": {},
   "outputs": [
    {
     "name": "stdout",
     "output_type": "stream",
     "text": [
      "[5.65, 7.33, 8.73, 9.68, 10.68, 12.85, 15.3, 16.08, 17.1, 17.91, 19.13, 22.88, 24.7]\n"
     ]
    }
   ],
   "source": [
    "print(lines)"
   ]
  },
  {
   "cell_type": "code",
   "execution_count": 113,
   "metadata": {},
   "outputs": [],
   "source": [
    "z = list(zip(x,y))\n",
    "z=np.array([list(x) for x in list(zip(x,y))])\n",
    "\n"
   ]
  },
  {
   "cell_type": "code",
   "execution_count": null,
   "metadata": {},
   "outputs": [],
   "source": []
  },
  {
   "cell_type": "code",
   "execution_count": 114,
   "metadata": {},
   "outputs": [
    {
     "name": "stdout",
     "output_type": "stream",
     "text": [
      "[0 1 2 3 4 5]\n"
     ]
    }
   ],
   "source": [
    "from sklearn import cluster\n",
    "\n",
    "\n",
    "#clustering = cluster.DBSCAN(eps=0.5, min_samples=20).fit(z)\n",
    "#clustering = cluster.KMeans(n_clusters = 5, random_state=0).fit(z)\n",
    "#clustering = cluster.Birch(n_clusters = None).fit(z)\n",
    "#clustering = cluster.OPTICS(min_samples =20 ).fit(z)\n",
    "#clustering = cluster.AffinityPropagation(random_state =0 ).fit(z)\n",
    "clustering = cluster.MeanShift(bandwidth =3 ).fit(z)\n",
    "#clustering = cluster.AgglomerativeClustering(5).fit(z)\n",
    "labels = clustering.labels_\n",
    "print(np.unique(labels))"
   ]
  },
  {
   "cell_type": "code",
   "execution_count": 115,
   "metadata": {},
   "outputs": [
    {
     "data": {
      "image/png": "[encoded data removed]",
      "text/plain": [
       "<Figure size 1080x720 with 1 Axes>"
      ]
     },
     "metadata": {
      "needs_background": "light"
     },
     "output_type": "display_data"
    }
   ],
   "source": [
    "title = f\"Scheduled headways on line {line} to {trip_headsign} at the stop {stop_id} on weekday\"\n",
    "plt.figure(figsize=[15,10])\n",
    "plt.scatter(x, y, c=labels)\n",
    "plt.title(title)\n",
    "plt.show()"
   ]
  },
  {
   "cell_type": "code",
   "execution_count": null,
   "metadata": {},
   "outputs": [],
   "source": []
  }
 ],
 "metadata": {
  "kernelspec": {
   "display_name": "Python 3.10.6 64-bit",
   "language": "python",
   "name": "python3"
  },
  "language_info": {
   "codemirror_mode": {
    "name": "ipython",
    "version": 3
   },
   "file_extension": ".py",
   "mimetype": "text/x-python",
   "name": "python",
   "nbconvert_exporter": "python",
   "pygments_lexer": "ipython3",
   "version": "3.10.6"
  },
  "orig_nbformat": 4,
  "vscode": {
   "interpreter": {
    "hash": "916dbcbb3f70747c44a77c7bcd40155683ae19c65e1c03b4aa3499c5328201f1"
   }
  }
 },
 "nbformat": 4,
 "nbformat_minor": 2
}
