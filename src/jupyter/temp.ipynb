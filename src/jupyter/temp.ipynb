{
 "cells": [
  {
   "cell_type": "code",
   "execution_count": 3,
   "metadata": {},
   "outputs": [],
   "source": [
    "import pandas as pd"
   ]
  },
  {
   "cell_type": "code",
   "execution_count": 5,
   "metadata": {},
   "outputs": [],
   "source": [
    "routes_data = pd.read_csv('../../data/gtfs3Sept/routes.csv')\n",
    "trips_data = pd.read_csv('../../data/gtfs3Sept/trips.csv')\n",
    "stop_times_data = pd.read_csv('../../data/gtfs3Sept/stop_times.csv')\n",
    "calendar_data = pd.read_csv('../../data/gtfs3Sept/calendar.csv')"
   ]
  },
  {
   "cell_type": "code",
   "execution_count": 27,
   "metadata": {},
   "outputs": [],
   "source": [
    "trips_routes_merge = pd.merge(trips_data, routes_data, on='route_id')\n",
    "trips_routes_calendar = pd.merge(trips_routes_merge, calendar_data, on='service_id')\n",
    "trips_routes_calender_stops = pd.merge(stop_times_data, trips_routes_calendar, on='trip_id')\n",
    "\n",
    "trips_routes_calender_stops = trips_routes_calender_stops.loc[trips_routes_calender_stops['route_type'] == 0]\n",
    "trips_routes_calender_stops.drop(['route_long_name','route_id', 'route_color','route_text_color', 'shape_id','end_date', 'tuesday', 'wednesday', 'thursday', 'friday', 'block_id','pickup_type', 'drop_off_type', 'stop_sequence', 'departure_time'], inplace=True, axis=1)\n"
   ]
  },
  {
   "cell_type": "code",
   "execution_count": 28,
   "metadata": {},
   "outputs": [],
   "source": [
    "trips_routes_calender_stops.to_csv(\"FinalDF.csv\", index=False)"
   ]
  },
  {
   "cell_type": "code",
   "execution_count": 50,
   "metadata": {},
   "outputs": [],
   "source": [
    "df=pd.read_csv(\"../../data/FinalDF.csv\")"
   ]
  },
  {
   "cell_type": "code",
   "execution_count": 32,
   "metadata": {},
   "outputs": [
    {
     "data": {
      "text/plain": [
       "Index(['trip_id', 'arrival_time', 'stop_id', 'service_id', 'trip_headsign',\n",
       "       'direction_id', 'route_short_name', 'route_type', 'monday', 'saturday',\n",
       "       'sunday', 'start_date'],\n",
       "      dtype='object')"
      ]
     },
     "execution_count": 32,
     "metadata": {},
     "output_type": "execute_result"
    }
   ],
   "source": [
    "df.columns"
   ]
  },
  {
   "cell_type": "code",
   "execution_count": 52,
   "metadata": {},
   "outputs": [
    {
     "name": "stderr",
     "output_type": "stream",
     "text": [
      "C:\\Users\\takira\\AppData\\Local\\Temp\\ipykernel_128\\1039206630.py:1: FutureWarning: The default value of numeric_only in DataFrameGroupBy.mean is deprecated. In a future version, numeric_only will default to False. Either specify numeric_only or select only columns which should be valid for the function.\n",
      "  df = df.groupby(['trip_id','stop_id']).mean().reset_index()\n"
     ]
    }
   ],
   "source": [
    "df = df.groupby(['trip_id','stop_id']).mean().reset_index()"
   ]
  },
  {
   "cell_type": "code",
   "execution_count": 46,
   "metadata": {},
   "outputs": [],
   "source": [
    "df = df.groupby(['trip_id', 'stop_id'], as_index=False)\n"
   ]
  },
  {
   "cell_type": "code",
   "execution_count": 49,
   "metadata": {},
   "outputs": [
    {
     "data": {
      "text/plain": [
       "0         05:35:00\n",
       "1         05:38:00\n",
       "2         05:39:29\n",
       "3         05:40:44\n",
       "4         05:42:00\n",
       "            ...   \n",
       "910571    07:29:00\n",
       "910572    07:30:00\n",
       "910573    07:31:35\n",
       "910574    07:33:00\n",
       "910575    07:34:00\n",
       "Name: arrival_time, Length: 910576, dtype: object"
      ]
     },
     "execution_count": 49,
     "metadata": {},
     "output_type": "execute_result"
    }
   ],
   "source": []
  },
  {
   "cell_type": "markdown",
   "metadata": {},
   "source": []
  },
  {
   "cell_type": "code",
   "execution_count": 22,
   "metadata": {},
   "outputs": [
    {
     "data": {
      "text/html": [
       "<div>\n",
       "<style scoped>\n",
       "    .dataframe tbody tr th:only-of-type {\n",
       "        vertical-align: middle;\n",
       "    }\n",
       "\n",
       "    .dataframe tbody tr th {\n",
       "        vertical-align: top;\n",
       "    }\n",
       "\n",
       "    .dataframe thead th {\n",
       "        text-align: right;\n",
       "    }\n",
       "</style>\n",
       "<table border=\"1\" class=\"dataframe\">\n",
       "  <thead>\n",
       "    <tr style=\"text-align: right;\">\n",
       "      <th></th>\n",
       "      <th>trip_id</th>\n",
       "      <th>stop_id</th>\n",
       "      <th>arrival_time</th>\n",
       "      <th>service_id</th>\n",
       "      <th>trip_headsign</th>\n",
       "      <th>direction_id</th>\n",
       "      <th>route_short_name</th>\n",
       "      <th>route_type</th>\n",
       "      <th>monday</th>\n",
       "      <th>saturday</th>\n",
       "      <th>sunday</th>\n",
       "      <th>start_date</th>\n",
       "    </tr>\n",
       "  </thead>\n",
       "  <tbody>\n",
       "    <tr>\n",
       "      <th>0</th>\n",
       "      <td>112360041233813600</td>\n",
       "      <td>0089</td>\n",
       "      <td>1</td>\n",
       "      <td>1</td>\n",
       "      <td>1</td>\n",
       "      <td>1</td>\n",
       "      <td>1</td>\n",
       "      <td>1</td>\n",
       "      <td>1</td>\n",
       "      <td>1</td>\n",
       "      <td>1</td>\n",
       "      <td>1</td>\n",
       "    </tr>\n",
       "    <tr>\n",
       "      <th>1</th>\n",
       "      <td>112360041233813600</td>\n",
       "      <td>5281G</td>\n",
       "      <td>1</td>\n",
       "      <td>1</td>\n",
       "      <td>1</td>\n",
       "      <td>1</td>\n",
       "      <td>1</td>\n",
       "      <td>1</td>\n",
       "      <td>1</td>\n",
       "      <td>1</td>\n",
       "      <td>1</td>\n",
       "      <td>1</td>\n",
       "    </tr>\n",
       "    <tr>\n",
       "      <th>2</th>\n",
       "      <td>112360041233813600</td>\n",
       "      <td>5501</td>\n",
       "      <td>1</td>\n",
       "      <td>1</td>\n",
       "      <td>1</td>\n",
       "      <td>1</td>\n",
       "      <td>1</td>\n",
       "      <td>1</td>\n",
       "      <td>1</td>\n",
       "      <td>1</td>\n",
       "      <td>1</td>\n",
       "      <td>1</td>\n",
       "    </tr>\n",
       "    <tr>\n",
       "      <th>3</th>\n",
       "      <td>112360041233813600</td>\n",
       "      <td>5502</td>\n",
       "      <td>1</td>\n",
       "      <td>1</td>\n",
       "      <td>1</td>\n",
       "      <td>1</td>\n",
       "      <td>1</td>\n",
       "      <td>1</td>\n",
       "      <td>1</td>\n",
       "      <td>1</td>\n",
       "      <td>1</td>\n",
       "      <td>1</td>\n",
       "    </tr>\n",
       "    <tr>\n",
       "      <th>4</th>\n",
       "      <td>112360041233813600</td>\n",
       "      <td>5503</td>\n",
       "      <td>1</td>\n",
       "      <td>1</td>\n",
       "      <td>1</td>\n",
       "      <td>1</td>\n",
       "      <td>1</td>\n",
       "      <td>1</td>\n",
       "      <td>1</td>\n",
       "      <td>1</td>\n",
       "      <td>1</td>\n",
       "      <td>1</td>\n",
       "    </tr>\n",
       "    <tr>\n",
       "      <th>...</th>\n",
       "      <td>...</td>\n",
       "      <td>...</td>\n",
       "      <td>...</td>\n",
       "      <td>...</td>\n",
       "      <td>...</td>\n",
       "      <td>...</td>\n",
       "      <td>...</td>\n",
       "      <td>...</td>\n",
       "      <td>...</td>\n",
       "      <td>...</td>\n",
       "      <td>...</td>\n",
       "      <td>...</td>\n",
       "    </tr>\n",
       "    <tr>\n",
       "      <th>910571</th>\n",
       "      <td>113495067238097001</td>\n",
       "      <td>6165</td>\n",
       "      <td>1</td>\n",
       "      <td>1</td>\n",
       "      <td>1</td>\n",
       "      <td>1</td>\n",
       "      <td>1</td>\n",
       "      <td>1</td>\n",
       "      <td>1</td>\n",
       "      <td>1</td>\n",
       "      <td>1</td>\n",
       "      <td>1</td>\n",
       "    </tr>\n",
       "    <tr>\n",
       "      <th>910572</th>\n",
       "      <td>113495067238097001</td>\n",
       "      <td>6166</td>\n",
       "      <td>1</td>\n",
       "      <td>1</td>\n",
       "      <td>1</td>\n",
       "      <td>1</td>\n",
       "      <td>1</td>\n",
       "      <td>1</td>\n",
       "      <td>1</td>\n",
       "      <td>1</td>\n",
       "      <td>1</td>\n",
       "      <td>1</td>\n",
       "    </tr>\n",
       "    <tr>\n",
       "      <th>910573</th>\n",
       "      <td>113495067238097001</td>\n",
       "      <td>6175</td>\n",
       "      <td>1</td>\n",
       "      <td>1</td>\n",
       "      <td>1</td>\n",
       "      <td>1</td>\n",
       "      <td>1</td>\n",
       "      <td>1</td>\n",
       "      <td>1</td>\n",
       "      <td>1</td>\n",
       "      <td>1</td>\n",
       "      <td>1</td>\n",
       "    </tr>\n",
       "    <tr>\n",
       "      <th>910574</th>\n",
       "      <td>113495067238097001</td>\n",
       "      <td>6425F</td>\n",
       "      <td>1</td>\n",
       "      <td>1</td>\n",
       "      <td>1</td>\n",
       "      <td>1</td>\n",
       "      <td>1</td>\n",
       "      <td>1</td>\n",
       "      <td>1</td>\n",
       "      <td>1</td>\n",
       "      <td>1</td>\n",
       "      <td>1</td>\n",
       "    </tr>\n",
       "    <tr>\n",
       "      <th>910575</th>\n",
       "      <td>113495067238097001</td>\n",
       "      <td>6462F</td>\n",
       "      <td>1</td>\n",
       "      <td>1</td>\n",
       "      <td>1</td>\n",
       "      <td>1</td>\n",
       "      <td>1</td>\n",
       "      <td>1</td>\n",
       "      <td>1</td>\n",
       "      <td>1</td>\n",
       "      <td>1</td>\n",
       "      <td>1</td>\n",
       "    </tr>\n",
       "  </tbody>\n",
       "</table>\n",
       "<p>910576 rows × 12 columns</p>\n",
       "</div>"
      ],
      "text/plain": [
       "                   trip_id stop_id  arrival_time  service_id  trip_headsign  \\\n",
       "0       112360041233813600    0089             1           1              1   \n",
       "1       112360041233813600   5281G             1           1              1   \n",
       "2       112360041233813600    5501             1           1              1   \n",
       "3       112360041233813600    5502             1           1              1   \n",
       "4       112360041233813600    5503             1           1              1   \n",
       "...                    ...     ...           ...         ...            ...   \n",
       "910571  113495067238097001    6165             1           1              1   \n",
       "910572  113495067238097001    6166             1           1              1   \n",
       "910573  113495067238097001    6175             1           1              1   \n",
       "910574  113495067238097001   6425F             1           1              1   \n",
       "910575  113495067238097001   6462F             1           1              1   \n",
       "\n",
       "        direction_id  route_short_name  route_type  monday  saturday  sunday  \\\n",
       "0                  1                 1           1       1         1       1   \n",
       "1                  1                 1           1       1         1       1   \n",
       "2                  1                 1           1       1         1       1   \n",
       "3                  1                 1           1       1         1       1   \n",
       "4                  1                 1           1       1         1       1   \n",
       "...              ...               ...         ...     ...       ...     ...   \n",
       "910571             1                 1           1       1         1       1   \n",
       "910572             1                 1           1       1         1       1   \n",
       "910573             1                 1           1       1         1       1   \n",
       "910574             1                 1           1       1         1       1   \n",
       "910575             1                 1           1       1         1       1   \n",
       "\n",
       "        start_date  \n",
       "0                1  \n",
       "1                1  \n",
       "2                1  \n",
       "3                1  \n",
       "4                1  \n",
       "...            ...  \n",
       "910571           1  \n",
       "910572           1  \n",
       "910573           1  \n",
       "910574           1  \n",
       "910575           1  \n",
       "\n",
       "[910576 rows x 12 columns]"
      ]
     },
     "execution_count": 22,
     "metadata": {},
     "output_type": "execute_result"
    }
   ],
   "source": [
    "trips_routes_calender_stops.groupby(['trip_id','stop_id'], as_index=False).count()"
   ]
  },
  {
   "cell_type": "code",
   "execution_count": 19,
   "metadata": {},
   "outputs": [
    {
     "data": {
      "text/plain": [
       "16"
      ]
     },
     "execution_count": 19,
     "metadata": {},
     "output_type": "execute_result"
    }
   ],
   "source": [
    "len(df..unique())"
   ]
  },
  {
   "cell_type": "code",
   "execution_count": 20,
   "metadata": {},
   "outputs": [],
   "source": [
    "def time_to_sec(time:str):\n",
    "    time = time.split(\":\")\n",
    "    hours, minutes, seconds = int(time[0]), int(time[1]), int(time[2])\n",
    "    return hours*60*60+minutes*60+seconds"
   ]
  },
  {
   "cell_type": "code",
   "execution_count": null,
   "metadata": {},
   "outputs": [],
   "source": []
  }
 ],
 "metadata": {
  "kernelspec": {
   "display_name": "Python 3.10.2 64-bit",
   "language": "python",
   "name": "python3"
  },
  "language_info": {
   "codemirror_mode": {
    "name": "ipython",
    "version": 3
   },
   "file_extension": ".py",
   "mimetype": "text/x-python",
   "name": "python",
   "nbconvert_exporter": "python",
   "pygments_lexer": "ipython3",
   "version": "3.10.2"
  },
  "orig_nbformat": 4,
  "vscode": {
   "interpreter": {
    "hash": "c0d206858f1116ba0b239ec8cd4da2f5475457917c138e111f4bd85e5ec2ff0f"
   }
  }
 },
 "nbformat": 4,
 "nbformat_minor": 2
}
